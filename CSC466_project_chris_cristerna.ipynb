{
  "cells": [
    {
      "cell_type": "markdown",
      "metadata": {
        "id": "view-in-github",
        "colab_type": "text"
      },
      "source": [
        "<a href=\"https://colab.research.google.com/github/ccrister/Data-Science/blob/main/CSC466_project_chris_cristerna.ipynb\" target=\"_parent\"><img src=\"https://colab.research.google.com/assets/colab-badge.svg\" alt=\"Open In Colab\"/></a>"
      ]
    },
    {
      "cell_type": "markdown",
      "metadata": {
        "id": "RpPnk4CyH5wE"
      },
      "source": [
        "**Report**\n",
        "Intro/Description:\n",
        "The purpose of the project I worked on was to develop two models for predicting share prices for Gamestop, modify the parameters of the models to see if any effects on performance arose and finally to pit the two models against each other and see how they perform relative to one another.\n",
        "\n",
        "\n",
        "The first model that was required to meet the goals of the project was the recurrent neural network which uses the LSTM(Long Short Term Memory) architecture. This model was developed with the aid of TensorFlow and Keras. Generally speaking an RNN can be thought of as a computer algorithm unique in that it has a notion of memory that is developed via a series of data or information that is being fed through a channel or network. This RNN that was developed for the project consists of four layers, three LSTM layers and a single dense layer that is the brain responsible for developing the share price prediction or forecast. The RNN developed makes predictions by first looking at publicly available share information from the past to learn about trends which it then uses to make a projection about the share price one day in the future.\n",
        "\n",
        "\n",
        "\n",
        "The decision tree model on the otherhand is a recursive algorithm that fractures the dataset such that each one of the dataset entries goes through a sequence of processing until reaching a leaf in the tree. It is at this point at which a forecasted price or prediction can be made.\n",
        "\n",
        "\n",
        "Results:\n",
        "I ran multiple ticker symbols or stocks through both models to get an idea of how accurate the predictions could be and found significant performance variations contingent on the company. This makes intuitive sense as companies like any other public figure or entity are bound to be influenced by external events and the publics perception. I also discovered the importance of 'hyper-parameters' in the RNN as I modified the number of epochs and units which all came with varying but most importantly significant fluctuations in performance.\n",
        "\n",
        "Future Work:\n",
        "I would have liked to explore the effects of news headlines on share prices but due to time constraints my research was cut short. That said, I greatly enjoyed working on this project, and will surely continue to explore KDD and it's seemingly infinite means of novelizing the seemingly mundane dataset.\n"
      ]
    },
    {
      "cell_type": "code",
      "execution_count": null,
      "metadata": {
        "colab": {
          "base_uri": "https://localhost:8080/"
        },
        "id": "cLWeoVve4HB0",
        "outputId": "42282490-e513-49c2-9cac-f2cfcab3fb28"
      },
      "outputs": [
        {
          "output_type": "stream",
          "name": "stdout",
          "text": [
            "Looking in indexes: https://pypi.org/simple, https://us-python.pkg.dev/colab-wheels/public/simple/\n",
            "Requirement already satisfied: pandas in /usr/local/lib/python3.7/dist-packages (1.3.5)\n",
            "Requirement already satisfied: pytz>=2017.3 in /usr/local/lib/python3.7/dist-packages (from pandas) (2022.1)\n",
            "Requirement already satisfied: python-dateutil>=2.7.3 in /usr/local/lib/python3.7/dist-packages (from pandas) (2.8.2)\n",
            "Requirement already satisfied: numpy>=1.17.3 in /usr/local/lib/python3.7/dist-packages (from pandas) (1.21.6)\n",
            "Requirement already satisfied: six>=1.5 in /usr/local/lib/python3.7/dist-packages (from python-dateutil>=2.7.3->pandas) (1.15.0)\n",
            "Looking in indexes: https://pypi.org/simple, https://us-python.pkg.dev/colab-wheels/public/simple/\n",
            "Requirement already satisfied: pandas-datareader in /usr/local/lib/python3.7/dist-packages (0.10.0)\n",
            "Requirement already satisfied: requests>=2.19.0 in /usr/local/lib/python3.7/dist-packages (from pandas-datareader) (2.28.1)\n",
            "Requirement already satisfied: lxml in /usr/local/lib/python3.7/dist-packages (from pandas-datareader) (4.9.1)\n",
            "Requirement already satisfied: pandas>=0.23 in /usr/local/lib/python3.7/dist-packages (from pandas-datareader) (1.3.5)\n",
            "Requirement already satisfied: python-dateutil>=2.7.3 in /usr/local/lib/python3.7/dist-packages (from pandas>=0.23->pandas-datareader) (2.8.2)\n",
            "Requirement already satisfied: pytz>=2017.3 in /usr/local/lib/python3.7/dist-packages (from pandas>=0.23->pandas-datareader) (2022.1)\n",
            "Requirement already satisfied: numpy>=1.17.3 in /usr/local/lib/python3.7/dist-packages (from pandas>=0.23->pandas-datareader) (1.21.6)\n",
            "Requirement already satisfied: six>=1.5 in /usr/local/lib/python3.7/dist-packages (from python-dateutil>=2.7.3->pandas>=0.23->pandas-datareader) (1.15.0)\n",
            "Requirement already satisfied: idna<4,>=2.5 in /usr/local/lib/python3.7/dist-packages (from requests>=2.19.0->pandas-datareader) (2.10)\n",
            "Requirement already satisfied: urllib3<1.27,>=1.21.1 in /usr/local/lib/python3.7/dist-packages (from requests>=2.19.0->pandas-datareader) (1.24.3)\n",
            "Requirement already satisfied: charset-normalizer<3,>=2 in /usr/local/lib/python3.7/dist-packages (from requests>=2.19.0->pandas-datareader) (2.1.0)\n",
            "Requirement already satisfied: certifi>=2017.4.17 in /usr/local/lib/python3.7/dist-packages (from requests>=2.19.0->pandas-datareader) (2022.6.15)\n",
            "Looking in indexes: https://pypi.org/simple, https://us-python.pkg.dev/colab-wheels/public/simple/\n",
            "Requirement already satisfied: yfinance in /usr/local/lib/python3.7/dist-packages (0.1.74)\n",
            "Requirement already satisfied: pandas>=0.24.0 in /usr/local/lib/python3.7/dist-packages (from yfinance) (1.3.5)\n",
            "Requirement already satisfied: requests>=2.26 in /usr/local/lib/python3.7/dist-packages (from yfinance) (2.28.1)\n",
            "Requirement already satisfied: lxml>=4.5.1 in /usr/local/lib/python3.7/dist-packages (from yfinance) (4.9.1)\n",
            "Requirement already satisfied: numpy>=1.15 in /usr/local/lib/python3.7/dist-packages (from yfinance) (1.21.6)\n",
            "Requirement already satisfied: multitasking>=0.0.7 in /usr/local/lib/python3.7/dist-packages (from yfinance) (0.0.11)\n",
            "Requirement already satisfied: pytz>=2017.3 in /usr/local/lib/python3.7/dist-packages (from pandas>=0.24.0->yfinance) (2022.1)\n",
            "Requirement already satisfied: python-dateutil>=2.7.3 in /usr/local/lib/python3.7/dist-packages (from pandas>=0.24.0->yfinance) (2.8.2)\n",
            "Requirement already satisfied: six>=1.5 in /usr/local/lib/python3.7/dist-packages (from python-dateutil>=2.7.3->pandas>=0.24.0->yfinance) (1.15.0)\n",
            "Requirement already satisfied: certifi>=2017.4.17 in /usr/local/lib/python3.7/dist-packages (from requests>=2.26->yfinance) (2022.6.15)\n",
            "Requirement already satisfied: charset-normalizer<3,>=2 in /usr/local/lib/python3.7/dist-packages (from requests>=2.26->yfinance) (2.1.0)\n",
            "Requirement already satisfied: idna<4,>=2.5 in /usr/local/lib/python3.7/dist-packages (from requests>=2.26->yfinance) (2.10)\n",
            "Requirement already satisfied: urllib3<1.27,>=1.21.1 in /usr/local/lib/python3.7/dist-packages (from requests>=2.26->yfinance) (1.24.3)\n"
          ]
        }
      ],
      "source": [
        "!pip install --upgrade pandas\n",
        "!pip install --upgrade pandas-datareader\n",
        "!pip install yfinance"
      ]
    },
    {
      "cell_type": "markdown",
      "metadata": {
        "id": "hOrlPExo4OHx"
      },
      "source": [
        "Importing the dependencies\n"
      ]
    },
    {
      "cell_type": "code",
      "execution_count": null,
      "metadata": {
        "id": "wrLGobjZ4RL3"
      },
      "outputs": [],
      "source": [
        "import numpy as np\n",
        "import matplotlib.pyplot as plt\n",
        "import pandas as pd\n",
        "import datetime as dt\n"
      ]
    },
    {
      "cell_type": "code",
      "execution_count": null,
      "metadata": {
        "colab": {
          "base_uri": "https://localhost:8080/",
          "height": 238
        },
        "id": "TYAxa4t9-yq2",
        "outputId": "f99b5fa0-1b77-4d9c-de69-d06421f6da57"
      },
      "outputs": [
        {
          "output_type": "execute_result",
          "data": {
            "text/plain": [
              "                 Open       High        Low      Close    Volume  Dividends  \\\n",
              "Date                                                                          \n",
              "2022-07-19  37.435001  39.209999  36.587502  37.924999  12828000        0.0   \n",
              "2022-07-20  38.500000  40.407501  38.349998  39.687500  11400400        0.0   \n",
              "2022-07-21  39.930000  40.000000  37.290001  38.367500   9277600        0.0   \n",
              "2022-07-22  36.880001  38.700001  34.930000  35.779999  10039800        0.0   \n",
              "2022-07-25  35.000000  35.509998  33.250000  33.980000   5613070        0.0   \n",
              "\n",
              "            Stock Splits  \n",
              "Date                      \n",
              "2022-07-19           0.0  \n",
              "2022-07-20           0.0  \n",
              "2022-07-21           0.0  \n",
              "2022-07-22           4.0  \n",
              "2022-07-25           0.0  "
            ],
            "text/html": [
              "\n",
              "  <div id=\"df-496efd0b-beb8-4bb0-9d68-af64c3316e02\">\n",
              "    <div class=\"colab-df-container\">\n",
              "      <div>\n",
              "<style scoped>\n",
              "    .dataframe tbody tr th:only-of-type {\n",
              "        vertical-align: middle;\n",
              "    }\n",
              "\n",
              "    .dataframe tbody tr th {\n",
              "        vertical-align: top;\n",
              "    }\n",
              "\n",
              "    .dataframe thead th {\n",
              "        text-align: right;\n",
              "    }\n",
              "</style>\n",
              "<table border=\"1\" class=\"dataframe\">\n",
              "  <thead>\n",
              "    <tr style=\"text-align: right;\">\n",
              "      <th></th>\n",
              "      <th>Open</th>\n",
              "      <th>High</th>\n",
              "      <th>Low</th>\n",
              "      <th>Close</th>\n",
              "      <th>Volume</th>\n",
              "      <th>Dividends</th>\n",
              "      <th>Stock Splits</th>\n",
              "    </tr>\n",
              "    <tr>\n",
              "      <th>Date</th>\n",
              "      <th></th>\n",
              "      <th></th>\n",
              "      <th></th>\n",
              "      <th></th>\n",
              "      <th></th>\n",
              "      <th></th>\n",
              "      <th></th>\n",
              "    </tr>\n",
              "  </thead>\n",
              "  <tbody>\n",
              "    <tr>\n",
              "      <th>2022-07-19</th>\n",
              "      <td>37.435001</td>\n",
              "      <td>39.209999</td>\n",
              "      <td>36.587502</td>\n",
              "      <td>37.924999</td>\n",
              "      <td>12828000</td>\n",
              "      <td>0.0</td>\n",
              "      <td>0.0</td>\n",
              "    </tr>\n",
              "    <tr>\n",
              "      <th>2022-07-20</th>\n",
              "      <td>38.500000</td>\n",
              "      <td>40.407501</td>\n",
              "      <td>38.349998</td>\n",
              "      <td>39.687500</td>\n",
              "      <td>11400400</td>\n",
              "      <td>0.0</td>\n",
              "      <td>0.0</td>\n",
              "    </tr>\n",
              "    <tr>\n",
              "      <th>2022-07-21</th>\n",
              "      <td>39.930000</td>\n",
              "      <td>40.000000</td>\n",
              "      <td>37.290001</td>\n",
              "      <td>38.367500</td>\n",
              "      <td>9277600</td>\n",
              "      <td>0.0</td>\n",
              "      <td>0.0</td>\n",
              "    </tr>\n",
              "    <tr>\n",
              "      <th>2022-07-22</th>\n",
              "      <td>36.880001</td>\n",
              "      <td>38.700001</td>\n",
              "      <td>34.930000</td>\n",
              "      <td>35.779999</td>\n",
              "      <td>10039800</td>\n",
              "      <td>0.0</td>\n",
              "      <td>4.0</td>\n",
              "    </tr>\n",
              "    <tr>\n",
              "      <th>2022-07-25</th>\n",
              "      <td>35.000000</td>\n",
              "      <td>35.509998</td>\n",
              "      <td>33.250000</td>\n",
              "      <td>33.980000</td>\n",
              "      <td>5613070</td>\n",
              "      <td>0.0</td>\n",
              "      <td>0.0</td>\n",
              "    </tr>\n",
              "  </tbody>\n",
              "</table>\n",
              "</div>\n",
              "      <button class=\"colab-df-convert\" onclick=\"convertToInteractive('df-496efd0b-beb8-4bb0-9d68-af64c3316e02')\"\n",
              "              title=\"Convert this dataframe to an interactive table.\"\n",
              "              style=\"display:none;\">\n",
              "        \n",
              "  <svg xmlns=\"http://www.w3.org/2000/svg\" height=\"24px\"viewBox=\"0 0 24 24\"\n",
              "       width=\"24px\">\n",
              "    <path d=\"M0 0h24v24H0V0z\" fill=\"none\"/>\n",
              "    <path d=\"M18.56 5.44l.94 2.06.94-2.06 2.06-.94-2.06-.94-.94-2.06-.94 2.06-2.06.94zm-11 1L8.5 8.5l.94-2.06 2.06-.94-2.06-.94L8.5 2.5l-.94 2.06-2.06.94zm10 10l.94 2.06.94-2.06 2.06-.94-2.06-.94-.94-2.06-.94 2.06-2.06.94z\"/><path d=\"M17.41 7.96l-1.37-1.37c-.4-.4-.92-.59-1.43-.59-.52 0-1.04.2-1.43.59L10.3 9.45l-7.72 7.72c-.78.78-.78 2.05 0 2.83L4 21.41c.39.39.9.59 1.41.59.51 0 1.02-.2 1.41-.59l7.78-7.78 2.81-2.81c.8-.78.8-2.07 0-2.86zM5.41 20L4 18.59l7.72-7.72 1.47 1.35L5.41 20z\"/>\n",
              "  </svg>\n",
              "      </button>\n",
              "      \n",
              "  <style>\n",
              "    .colab-df-container {\n",
              "      display:flex;\n",
              "      flex-wrap:wrap;\n",
              "      gap: 12px;\n",
              "    }\n",
              "\n",
              "    .colab-df-convert {\n",
              "      background-color: #E8F0FE;\n",
              "      border: none;\n",
              "      border-radius: 50%;\n",
              "      cursor: pointer;\n",
              "      display: none;\n",
              "      fill: #1967D2;\n",
              "      height: 32px;\n",
              "      padding: 0 0 0 0;\n",
              "      width: 32px;\n",
              "    }\n",
              "\n",
              "    .colab-df-convert:hover {\n",
              "      background-color: #E2EBFA;\n",
              "      box-shadow: 0px 1px 2px rgba(60, 64, 67, 0.3), 0px 1px 3px 1px rgba(60, 64, 67, 0.15);\n",
              "      fill: #174EA6;\n",
              "    }\n",
              "\n",
              "    [theme=dark] .colab-df-convert {\n",
              "      background-color: #3B4455;\n",
              "      fill: #D2E3FC;\n",
              "    }\n",
              "\n",
              "    [theme=dark] .colab-df-convert:hover {\n",
              "      background-color: #434B5C;\n",
              "      box-shadow: 0px 1px 3px 1px rgba(0, 0, 0, 0.15);\n",
              "      filter: drop-shadow(0px 1px 2px rgba(0, 0, 0, 0.3));\n",
              "      fill: #FFFFFF;\n",
              "    }\n",
              "  </style>\n",
              "\n",
              "      <script>\n",
              "        const buttonEl =\n",
              "          document.querySelector('#df-496efd0b-beb8-4bb0-9d68-af64c3316e02 button.colab-df-convert');\n",
              "        buttonEl.style.display =\n",
              "          google.colab.kernel.accessAllowed ? 'block' : 'none';\n",
              "\n",
              "        async function convertToInteractive(key) {\n",
              "          const element = document.querySelector('#df-496efd0b-beb8-4bb0-9d68-af64c3316e02');\n",
              "          const dataTable =\n",
              "            await google.colab.kernel.invokeFunction('convertToInteractive',\n",
              "                                                     [key], {});\n",
              "          if (!dataTable) return;\n",
              "\n",
              "          const docLinkHtml = 'Like what you see? Visit the ' +\n",
              "            '<a target=\"_blank\" href=https://colab.research.google.com/notebooks/data_table.ipynb>data table notebook</a>'\n",
              "            + ' to learn more about interactive tables.';\n",
              "          element.innerHTML = '';\n",
              "          dataTable['output_type'] = 'display_data';\n",
              "          await google.colab.output.renderOutput(dataTable, element);\n",
              "          const docLink = document.createElement('div');\n",
              "          docLink.innerHTML = docLinkHtml;\n",
              "          element.appendChild(docLink);\n",
              "        }\n",
              "      </script>\n",
              "    </div>\n",
              "  </div>\n",
              "  "
            ]
          },
          "metadata": {},
          "execution_count": 3
        }
      ],
      "source": [
        "# For reading stock data from yahoo\n",
        "from pandas_datareader.data import DataReader\n",
        "import yfinance as yf\n",
        "\n",
        "\n",
        "brk = yf.Ticker('GME')\n",
        "\n",
        "data = brk.history(period=\"max\", auto_adjust=True)\n",
        "\n",
        "data.tail()\n"
      ]
    },
    {
      "cell_type": "code",
      "execution_count": null,
      "metadata": {
        "id": "j2I3y6OiCvdf",
        "colab": {
          "base_uri": "https://localhost:8080/"
        },
        "outputId": "a0192378-7c93-460c-f8f6-f3113bdbc96c"
      },
      "outputs": [
        {
          "output_type": "execute_result",
          "data": {
            "text/plain": [
              "Open            False\n",
              "High            False\n",
              "Low             False\n",
              "Close           False\n",
              "Volume          False\n",
              "Dividends       False\n",
              "Stock Splits    False\n",
              "dtype: bool"
            ]
          },
          "metadata": {},
          "execution_count": 4
        }
      ],
      "source": [
        "data.isna().any()"
      ]
    },
    {
      "cell_type": "code",
      "execution_count": null,
      "metadata": {
        "id": "VPLhrnxbdUrO",
        "colab": {
          "base_uri": "https://localhost:8080/"
        },
        "outputId": "968eb26d-8c0b-4aae-fa4d-934309048e84"
      },
      "outputs": [
        {
          "output_type": "stream",
          "name": "stdout",
          "text": [
            "<class 'pandas.core.frame.DataFrame'>\n",
            "DatetimeIndex: 5147 entries, 2002-02-13 to 2022-07-25\n",
            "Data columns (total 7 columns):\n",
            " #   Column        Non-Null Count  Dtype  \n",
            "---  ------        --------------  -----  \n",
            " 0   Open          5147 non-null   float64\n",
            " 1   High          5147 non-null   float64\n",
            " 2   Low           5147 non-null   float64\n",
            " 3   Close         5147 non-null   float64\n",
            " 4   Volume        5147 non-null   int64  \n",
            " 5   Dividends     5147 non-null   float64\n",
            " 6   Stock Splits  5147 non-null   float64\n",
            "dtypes: float64(6), int64(1)\n",
            "memory usage: 321.7 KB\n"
          ]
        }
      ],
      "source": [
        "data.info()"
      ]
    },
    {
      "cell_type": "code",
      "execution_count": null,
      "metadata": {
        "id": "mWYZnP7bdaZP",
        "colab": {
          "base_uri": "https://localhost:8080/",
          "height": 346
        },
        "outputId": "9966a8b7-25b1-4f26-a798-0f099ac42547"
      },
      "outputs": [
        {
          "output_type": "execute_result",
          "data": {
            "text/plain": [
              "<matplotlib.axes._subplots.AxesSubplot at 0x7f1b10bd69d0>"
            ]
          },
          "metadata": {},
          "execution_count": 6
        },
        {
          "output_type": "display_data",
          "data": {
            "text/plain": [
              "<Figure size 1152x432 with 1 Axes>"
            ],
            "image/png": "[encoded data removed]"
          },
          "metadata": {
            "needs_background": "light"
          }
        }
      ],
      "source": [
        "data['Open'].plot(figsize=(16,6))\n"
      ]
    },
    {
      "cell_type": "code",
      "execution_count": null,
      "metadata": {
        "id": "YWchdbMKfD9C"
      },
      "outputs": [],
      "source": [
        "data['Volume'] = data['Volume'].astype(float)"
      ]
    },
    {
      "cell_type": "markdown",
      "metadata": {
        "id": "gk00U56eqNo8"
      },
      "source": [
        "The line below is takes a slice consisting of seven days and we calculates the mean of the previous seven days and iterates to calculates the next mean for the next seven days"
      ]
    },
    {
      "cell_type": "code",
      "execution_count": null,
      "metadata": {
        "id": "xr-zjpAafz77",
        "colab": {
          "base_uri": "https://localhost:8080/",
          "height": 708
        },
        "outputId": "2b8e958f-0962-4e44-fd19-b082e05d5700"
      },
      "outputs": [
        {
          "output_type": "execute_result",
          "data": {
            "text/plain": [
              "                 Open       High        Low      Close        Volume  \\\n",
              "Date                                                                   \n",
              "2022-06-27  33.921429  35.167500  32.657500  33.804644  1.087291e+07   \n",
              "2022-06-28  34.138214  35.240357  32.718214  33.756429  1.038931e+07   \n",
              "2022-06-29  33.948571  34.905714  32.477857  33.317858  9.601543e+06   \n",
              "2022-06-30  33.275357  34.233928  31.843571  32.675715  8.773886e+06   \n",
              "2022-07-01  32.648929  33.535357  31.231428  32.138572  8.599486e+06   \n",
              "2022-07-05  31.929643  32.767143  30.598572  31.360358  8.507086e+06   \n",
              "2022-07-06  31.132857  31.835357  29.950000  30.725357  7.506114e+06   \n",
              "2022-07-07  30.705000  31.780000  29.753929  30.919286  1.044440e+07   \n",
              "2022-07-08  30.549643  31.827857  29.762143  31.067857  1.138577e+07   \n",
              "2022-07-11  30.800000  32.015357  29.942857  31.326071  1.148669e+07   \n",
              "2022-07-12  31.208214  32.586786  30.282143  31.855356  1.294109e+07   \n",
              "2022-07-13  31.703572  33.307500  30.843215  32.493214  1.395343e+07   \n",
              "2022-07-14  32.335357  34.360000  31.457143  33.063571  1.608691e+07   \n",
              "2022-07-15  33.005000  35.077500  32.195000  33.928213  1.606457e+07   \n",
              "2022-07-18  33.737500  35.581072  32.955357  34.339642  1.332766e+07   \n",
              "2022-07-19  34.561786  36.444286  33.806786  35.166785  1.327457e+07   \n",
              "2022-07-20  35.470358  37.511786  34.833572  36.190357  1.382709e+07   \n",
              "2022-07-21  36.503215  38.133572  35.615714  36.774285  1.273823e+07   \n",
              "2022-07-22  36.950358  38.471072  35.784286  36.840000  1.221483e+07   \n",
              "2022-07-25  36.979286  38.117143  35.670000  36.830000  1.002092e+07   \n",
              "\n",
              "            Dividends  Stock Splits  \n",
              "Date                                 \n",
              "2022-06-27        0.0      0.000000  \n",
              "2022-06-28        0.0      0.000000  \n",
              "2022-06-29        0.0      0.000000  \n",
              "2022-06-30        0.0      0.000000  \n",
              "2022-07-01        0.0      0.000000  \n",
              "2022-07-05        0.0      0.000000  \n",
              "2022-07-06        0.0      0.000000  \n",
              "2022-07-07        0.0      0.000000  \n",
              "2022-07-08        0.0      0.000000  \n",
              "2022-07-11        0.0      0.000000  \n",
              "2022-07-12        0.0      0.000000  \n",
              "2022-07-13        0.0      0.000000  \n",
              "2022-07-14        0.0      0.000000  \n",
              "2022-07-15        0.0      0.000000  \n",
              "2022-07-18        0.0      0.000000  \n",
              "2022-07-19        0.0      0.000000  \n",
              "2022-07-20        0.0      0.000000  \n",
              "2022-07-21        0.0      0.000000  \n",
              "2022-07-22        0.0      0.571429  \n",
              "2022-07-25        0.0      0.571429  "
            ],
            "text/html": [
              "\n",
              "  <div id=\"df-470ab870-570a-4da9-9e6b-6e10d4e93ae5\">\n",
              "    <div class=\"colab-df-container\">\n",
              "      <div>\n",
              "<style scoped>\n",
              "    .dataframe tbody tr th:only-of-type {\n",
              "        vertical-align: middle;\n",
              "    }\n",
              "\n",
              "    .dataframe tbody tr th {\n",
              "        vertical-align: top;\n",
              "    }\n",
              "\n",
              "    .dataframe thead th {\n",
              "        text-align: right;\n",
              "    }\n",
              "</style>\n",
              "<table border=\"1\" class=\"dataframe\">\n",
              "  <thead>\n",
              "    <tr style=\"text-align: right;\">\n",
              "      <th></th>\n",
              "      <th>Open</th>\n",
              "      <th>High</th>\n",
              "      <th>Low</th>\n",
              "      <th>Close</th>\n",
              "      <th>Volume</th>\n",
              "      <th>Dividends</th>\n",
              "      <th>Stock Splits</th>\n",
              "    </tr>\n",
              "    <tr>\n",
              "      <th>Date</th>\n",
              "      <th></th>\n",
              "      <th></th>\n",
              "      <th></th>\n",
              "      <th></th>\n",
              "      <th></th>\n",
              "      <th></th>\n",
              "      <th></th>\n",
              "    </tr>\n",
              "  </thead>\n",
              "  <tbody>\n",
              "    <tr>\n",
              "      <th>2022-06-27</th>\n",
              "      <td>33.921429</td>\n",
              "      <td>35.167500</td>\n",
              "      <td>32.657500</td>\n",
              "      <td>33.804644</td>\n",
              "      <td>1.087291e+07</td>\n",
              "      <td>0.0</td>\n",
              "      <td>0.000000</td>\n",
              "    </tr>\n",
              "    <tr>\n",
              "      <th>2022-06-28</th>\n",
              "      <td>34.138214</td>\n",
              "      <td>35.240357</td>\n",
              "      <td>32.718214</td>\n",
              "      <td>33.756429</td>\n",
              "      <td>1.038931e+07</td>\n",
              "      <td>0.0</td>\n",
              "      <td>0.000000</td>\n",
              "    </tr>\n",
              "    <tr>\n",
              "      <th>2022-06-29</th>\n",
              "      <td>33.948571</td>\n",
              "      <td>34.905714</td>\n",
              "      <td>32.477857</td>\n",
              "      <td>33.317858</td>\n",
              "      <td>9.601543e+06</td>\n",
              "      <td>0.0</td>\n",
              "      <td>0.000000</td>\n",
              "    </tr>\n",
              "    <tr>\n",
              "      <th>2022-06-30</th>\n",
              "      <td>33.275357</td>\n",
              "      <td>34.233928</td>\n",
              "      <td>31.843571</td>\n",
              "      <td>32.675715</td>\n",
              "      <td>8.773886e+06</td>\n",
              "      <td>0.0</td>\n",
              "      <td>0.000000</td>\n",
              "    </tr>\n",
              "    <tr>\n",
              "      <th>2022-07-01</th>\n",
              "      <td>32.648929</td>\n",
              "      <td>33.535357</td>\n",
              "      <td>31.231428</td>\n",
              "      <td>32.138572</td>\n",
              "      <td>8.599486e+06</td>\n",
              "      <td>0.0</td>\n",
              "      <td>0.000000</td>\n",
              "    </tr>\n",
              "    <tr>\n",
              "      <th>2022-07-05</th>\n",
              "      <td>31.929643</td>\n",
              "      <td>32.767143</td>\n",
              "      <td>30.598572</td>\n",
              "      <td>31.360358</td>\n",
              "      <td>8.507086e+06</td>\n",
              "      <td>0.0</td>\n",
              "      <td>0.000000</td>\n",
              "    </tr>\n",
              "    <tr>\n",
              "      <th>2022-07-06</th>\n",
              "      <td>31.132857</td>\n",
              "      <td>31.835357</td>\n",
              "      <td>29.950000</td>\n",
              "      <td>30.725357</td>\n",
              "      <td>7.506114e+06</td>\n",
              "      <td>0.0</td>\n",
              "      <td>0.000000</td>\n",
              "    </tr>\n",
              "    <tr>\n",
              "      <th>2022-07-07</th>\n",
              "      <td>30.705000</td>\n",
              "      <td>31.780000</td>\n",
              "      <td>29.753929</td>\n",
              "      <td>30.919286</td>\n",
              "      <td>1.044440e+07</td>\n",
              "      <td>0.0</td>\n",
              "      <td>0.000000</td>\n",
              "    </tr>\n",
              "    <tr>\n",
              "      <th>2022-07-08</th>\n",
              "      <td>30.549643</td>\n",
              "      <td>31.827857</td>\n",
              "      <td>29.762143</td>\n",
              "      <td>31.067857</td>\n",
              "      <td>1.138577e+07</td>\n",
              "      <td>0.0</td>\n",
              "      <td>0.000000</td>\n",
              "    </tr>\n",
              "    <tr>\n",
              "      <th>2022-07-11</th>\n",
              "      <td>30.800000</td>\n",
              "      <td>32.015357</td>\n",
              "      <td>29.942857</td>\n",
              "      <td>31.326071</td>\n",
              "      <td>1.148669e+07</td>\n",
              "      <td>0.0</td>\n",
              "      <td>0.000000</td>\n",
              "    </tr>\n",
              "    <tr>\n",
              "      <th>2022-07-12</th>\n",
              "      <td>31.208214</td>\n",
              "      <td>32.586786</td>\n",
              "      <td>30.282143</td>\n",
              "      <td>31.855356</td>\n",
              "      <td>1.294109e+07</td>\n",
              "      <td>0.0</td>\n",
              "      <td>0.000000</td>\n",
              "    </tr>\n",
              "    <tr>\n",
              "      <th>2022-07-13</th>\n",
              "      <td>31.703572</td>\n",
              "      <td>33.307500</td>\n",
              "      <td>30.843215</td>\n",
              "      <td>32.493214</td>\n",
              "      <td>1.395343e+07</td>\n",
              "      <td>0.0</td>\n",
              "      <td>0.000000</td>\n",
              "    </tr>\n",
              "    <tr>\n",
              "      <th>2022-07-14</th>\n",
              "      <td>32.335357</td>\n",
              "      <td>34.360000</td>\n",
              "      <td>31.457143</td>\n",
              "      <td>33.063571</td>\n",
              "      <td>1.608691e+07</td>\n",
              "      <td>0.0</td>\n",
              "      <td>0.000000</td>\n",
              "    </tr>\n",
              "    <tr>\n",
              "      <th>2022-07-15</th>\n",
              "      <td>33.005000</td>\n",
              "      <td>35.077500</td>\n",
              "      <td>32.195000</td>\n",
              "      <td>33.928213</td>\n",
              "      <td>1.606457e+07</td>\n",
              "      <td>0.0</td>\n",
              "      <td>0.000000</td>\n",
              "    </tr>\n",
              "    <tr>\n",
              "      <th>2022-07-18</th>\n",
              "      <td>33.737500</td>\n",
              "      <td>35.581072</td>\n",
              "      <td>32.955357</td>\n",
              "      <td>34.339642</td>\n",
              "      <td>1.332766e+07</td>\n",
              "      <td>0.0</td>\n",
              "      <td>0.000000</td>\n",
              "    </tr>\n",
              "    <tr>\n",
              "      <th>2022-07-19</th>\n",
              "      <td>34.561786</td>\n",
              "      <td>36.444286</td>\n",
              "      <td>33.806786</td>\n",
              "      <td>35.166785</td>\n",
              "      <td>1.327457e+07</td>\n",
              "      <td>0.0</td>\n",
              "      <td>0.000000</td>\n",
              "    </tr>\n",
              "    <tr>\n",
              "      <th>2022-07-20</th>\n",
              "      <td>35.470358</td>\n",
              "      <td>37.511786</td>\n",
              "      <td>34.833572</td>\n",
              "      <td>36.190357</td>\n",
              "      <td>1.382709e+07</td>\n",
              "      <td>0.0</td>\n",
              "      <td>0.000000</td>\n",
              "    </tr>\n",
              "    <tr>\n",
              "      <th>2022-07-21</th>\n",
              "      <td>36.503215</td>\n",
              "      <td>38.133572</td>\n",
              "      <td>35.615714</td>\n",
              "      <td>36.774285</td>\n",
              "      <td>1.273823e+07</td>\n",
              "      <td>0.0</td>\n",
              "      <td>0.000000</td>\n",
              "    </tr>\n",
              "    <tr>\n",
              "      <th>2022-07-22</th>\n",
              "      <td>36.950358</td>\n",
              "      <td>38.471072</td>\n",
              "      <td>35.784286</td>\n",
              "      <td>36.840000</td>\n",
              "      <td>1.221483e+07</td>\n",
              "      <td>0.0</td>\n",
              "      <td>0.571429</td>\n",
              "    </tr>\n",
              "    <tr>\n",
              "      <th>2022-07-25</th>\n",
              "      <td>36.979286</td>\n",
              "      <td>38.117143</td>\n",
              "      <td>35.670000</td>\n",
              "      <td>36.830000</td>\n",
              "      <td>1.002092e+07</td>\n",
              "      <td>0.0</td>\n",
              "      <td>0.571429</td>\n",
              "    </tr>\n",
              "  </tbody>\n",
              "</table>\n",
              "</div>\n",
              "      <button class=\"colab-df-convert\" onclick=\"convertToInteractive('df-470ab870-570a-4da9-9e6b-6e10d4e93ae5')\"\n",
              "              title=\"Convert this dataframe to an interactive table.\"\n",
              "              style=\"display:none;\">\n",
              "        \n",
              "  <svg xmlns=\"http://www.w3.org/2000/svg\" height=\"24px\"viewBox=\"0 0 24 24\"\n",
              "       width=\"24px\">\n",
              "    <path d=\"M0 0h24v24H0V0z\" fill=\"none\"/>\n",
              "    <path d=\"M18.56 5.44l.94 2.06.94-2.06 2.06-.94-2.06-.94-.94-2.06-.94 2.06-2.06.94zm-11 1L8.5 8.5l.94-2.06 2.06-.94-2.06-.94L8.5 2.5l-.94 2.06-2.06.94zm10 10l.94 2.06.94-2.06 2.06-.94-2.06-.94-.94-2.06-.94 2.06-2.06.94z\"/><path d=\"M17.41 7.96l-1.37-1.37c-.4-.4-.92-.59-1.43-.59-.52 0-1.04.2-1.43.59L10.3 9.45l-7.72 7.72c-.78.78-.78 2.05 0 2.83L4 21.41c.39.39.9.59 1.41.59.51 0 1.02-.2 1.41-.59l7.78-7.78 2.81-2.81c.8-.78.8-2.07 0-2.86zM5.41 20L4 18.59l7.72-7.72 1.47 1.35L5.41 20z\"/>\n",
              "  </svg>\n",
              "      </button>\n",
              "      \n",
              "  <style>\n",
              "    .colab-df-container {\n",
              "      display:flex;\n",
              "      flex-wrap:wrap;\n",
              "      gap: 12px;\n",
              "    }\n",
              "\n",
              "    .colab-df-convert {\n",
              "      background-color: #E8F0FE;\n",
              "      border: none;\n",
              "      border-radius: 50%;\n",
              "      cursor: pointer;\n",
              "      display: none;\n",
              "      fill: #1967D2;\n",
              "      height: 32px;\n",
              "      padding: 0 0 0 0;\n",
              "      width: 32px;\n",
              "    }\n",
              "\n",
              "    .colab-df-convert:hover {\n",
              "      background-color: #E2EBFA;\n",
              "      box-shadow: 0px 1px 2px rgba(60, 64, 67, 0.3), 0px 1px 3px 1px rgba(60, 64, 67, 0.15);\n",
              "      fill: #174EA6;\n",
              "    }\n",
              "\n",
              "    [theme=dark] .colab-df-convert {\n",
              "      background-color: #3B4455;\n",
              "      fill: #D2E3FC;\n",
              "    }\n",
              "\n",
              "    [theme=dark] .colab-df-convert:hover {\n",
              "      background-color: #434B5C;\n",
              "      box-shadow: 0px 1px 3px 1px rgba(0, 0, 0, 0.15);\n",
              "      filter: drop-shadow(0px 1px 2px rgba(0, 0, 0, 0.3));\n",
              "      fill: #FFFFFF;\n",
              "    }\n",
              "  </style>\n",
              "\n",
              "      <script>\n",
              "        const buttonEl =\n",
              "          document.querySelector('#df-470ab870-570a-4da9-9e6b-6e10d4e93ae5 button.colab-df-convert');\n",
              "        buttonEl.style.display =\n",
              "          google.colab.kernel.accessAllowed ? 'block' : 'none';\n",
              "\n",
              "        async function convertToInteractive(key) {\n",
              "          const element = document.querySelector('#df-470ab870-570a-4da9-9e6b-6e10d4e93ae5');\n",
              "          const dataTable =\n",
              "            await google.colab.kernel.invokeFunction('convertToInteractive',\n",
              "                                                     [key], {});\n",
              "          if (!dataTable) return;\n",
              "\n",
              "          const docLinkHtml = 'Like what you see? Visit the ' +\n",
              "            '<a target=\"_blank\" href=https://colab.research.google.com/notebooks/data_table.ipynb>data table notebook</a>'\n",
              "            + ' to learn more about interactive tables.';\n",
              "          element.innerHTML = '';\n",
              "          dataTable['output_type'] = 'display_data';\n",
              "          await google.colab.output.renderOutput(dataTable, element);\n",
              "          const docLink = document.createElement('div');\n",
              "          docLink.innerHTML = docLinkHtml;\n",
              "          element.appendChild(docLink);\n",
              "        }\n",
              "      </script>\n",
              "    </div>\n",
              "  </div>\n",
              "  "
            ]
          },
          "metadata": {},
          "execution_count": 8
        }
      ],
      "source": [
        "data.rolling(7).mean().tail(20)"
      ]
    },
    {
      "cell_type": "markdown",
      "metadata": {
        "id": "6RxvhVQ7q4Ok"
      },
      "source": [
        "Below we have the 'Open' price rolling mean represented by the orange graph. The blue graph represents the opening share price"
      ]
    },
    {
      "cell_type": "code",
      "execution_count": null,
      "metadata": {
        "id": "wgg51TY4pAlg",
        "colab": {
          "base_uri": "https://localhost:8080/",
          "height": 346
        },
        "outputId": "139daab1-3b5b-4ccb-8c5a-4549a45c366a"
      },
      "outputs": [
        {
          "output_type": "execute_result",
          "data": {
            "text/plain": [
              "<matplotlib.axes._subplots.AxesSubplot at 0x7f1b0dba1510>"
            ]
          },
          "metadata": {},
          "execution_count": 9
        },
        {
          "output_type": "display_data",
          "data": {
            "text/plain": [
              "<Figure size 1152x432 with 1 Axes>"
            ],
            "image/png": "[encoded data removed]"
          },
          "metadata": {
            "needs_background": "light"
          }
        }
      ],
      "source": [
        "data['Open'].plot(figsize=(16,6))\n",
        "data.rolling(window=30).mean()['Close'].plot() #"
      ]
    },
    {
      "cell_type": "code",
      "execution_count": null,
      "metadata": {
        "id": "OGNdCXsVrVCW",
        "colab": {
          "base_uri": "https://localhost:8080/",
          "height": 346
        },
        "outputId": "928ce62d-fec8-43fb-ad05-e640614e166f"
      },
      "outputs": [
        {
          "output_type": "execute_result",
          "data": {
            "text/plain": [
              "<matplotlib.axes._subplots.AxesSubplot at 0x7f1b0d59bad0>"
            ]
          },
          "metadata": {},
          "execution_count": 10
        },
        {
          "output_type": "display_data",
          "data": {
            "text/plain": [
              "<Figure size 1152x432 with 1 Axes>"
            ],
            "image/png": "[encoded data removed]"
          },
          "metadata": {
            "needs_background": "light"
          }
        }
      ],
      "source": [
        "#similar to the above graph but now instead charting the 30 day rolling mean of the closing prices against daily closing prices\n",
        "data['Close: 30 Day Mean']= data['Close'].rolling(window=30).mean()\n",
        "data[['Close','Close: 30 Day Mean']].plot(figsize=(16,6))"
      ]
    },
    {
      "cell_type": "code",
      "execution_count": null,
      "metadata": {
        "id": "fJEX4nGXHUHE",
        "colab": {
          "base_uri": "https://localhost:8080/",
          "height": 349
        },
        "outputId": "15150180-b44e-4112-d4ae-866fdf54bf58"
      },
      "outputs": [
        {
          "output_type": "execute_result",
          "data": {
            "text/plain": [
              "<matplotlib.axes._subplots.AxesSubplot at 0x7f1b0d449810>"
            ]
          },
          "metadata": {},
          "execution_count": 11
        },
        {
          "output_type": "display_data",
          "data": {
            "text/plain": [
              "<Figure size 1152x432 with 1 Axes>"
            ],
            "image/png": "[encoded data removed]"
          },
          "metadata": {
            "needs_background": "light"
          }
        }
      ],
      "source": [
        "data['Close'].expanding(min_periods=1).mean().plot(figsize=(16,6))"
      ]
    },
    {
      "cell_type": "markdown",
      "metadata": {
        "id": "wJ8CfJk-s6bB"
      },
      "source": [
        "#Start\n",
        "Creating our training set dataFrame below\n",
        "\n",
        "\n",
        "\n",
        "\n"
      ]
    },
    {
      "cell_type": "code",
      "execution_count": null,
      "metadata": {
        "id": "8d_rmj7UsnfI"
      },
      "outputs": [],
      "source": [
        "training_set = data['Open']\n",
        "training_set=pd.DataFrame(training_set)"
      ]
    },
    {
      "cell_type": "code",
      "execution_count": null,
      "metadata": {
        "id": "XA2fbRi5uRWT",
        "colab": {
          "base_uri": "https://localhost:8080/"
        },
        "outputId": "d86cf1a7-6230-4135-e006-02c50dbe391f"
      },
      "outputs": [
        {
          "output_type": "execute_result",
          "data": {
            "text/plain": [
              "Open                  False\n",
              "High                  False\n",
              "Low                   False\n",
              "Close                 False\n",
              "Volume                False\n",
              "Dividends             False\n",
              "Stock Splits          False\n",
              "Close: 30 Day Mean     True\n",
              "dtype: bool"
            ]
          },
          "metadata": {},
          "execution_count": 13
        }
      ],
      "source": [
        "data.isna().any()"
      ]
    },
    {
      "cell_type": "code",
      "execution_count": null,
      "metadata": {
        "id": "L0P-8SaEtAjX"
      },
      "outputs": [],
      "source": [
        "#Feature Scaling being performed by MinMaxScaler library\n",
        "#this takes features and transforms them by scaling each to a set range where the \"feature\" set or range is\n",
        "#determined by the second line..\n",
        "#therefore the feature range is from 0 to 1\n",
        "from sklearn.preprocessing import MinMaxScaler\n",
        "sc = MinMaxScaler(feature_range = (0,1))\n",
        "training_set_scaled = sc.fit_transform(training_set)"
      ]
    },
    {
      "cell_type": "markdown",
      "metadata": {
        "id": "vAteSWAUdI3g"
      },
      "source": [
        "The preprocessing above reduces the data , then we perform a data normalization, and finnaly we clean the data by filling in the missing values\n",
        "\n",
        "\n",
        "and then we \"integrate\" the data files after the dataset is transformed into a clean dataset..\n",
        "\n",
        "the data set is then divided into training and testing sets so we can perform evaluations of the model at the end\n"
      ]
    },
    {
      "cell_type": "markdown",
      "metadata": {
        "id": "w7SSCDX-d19b"
      },
      "source": [
        "below what we are doing is creating a data structure with 60 time stamps and one output\n",
        "\n",
        "X_train.append: taking data from day 1 to day 60 and make predictions on the 61st day, then we take data from day number 2 to day number 61 and make a prediction on the 62nd day.\n",
        "\n",
        "in other words \"i\" goes from 60 to the end of the range which is 1258\n",
        "\n",
        "Note about the 60 day span:\n",
        "decreasing to something like 5-10 days makes the model sensitive to short term trends whereas increasing makes it senstive for long term trends\n",
        "\n"
      ]
    },
    {
      "cell_type": "code",
      "execution_count": null,
      "metadata": {
        "id": "zqPIxX4yuQJs"
      },
      "outputs": [],
      "source": [
        "X_train = []\n",
        "y_train = []\n",
        "\n",
        "#how many days we look into the past to decide or base our models predicted price for the next day\n",
        "prediction_days = 60\n",
        "\n",
        "for i in range(prediction_days,len(training_set_scaled)):\n",
        "  X_train.append(training_set_scaled[i-prediction_days:i,0])\n",
        "  y_train.append(training_set_scaled[i,0]) # this gives us the prediction on the 61st day\n",
        "X_train, y_train = np.array(X_train), np.array(y_train)\n",
        "\n",
        "#Reshaping below\n",
        "X_train = np.reshape(X_train, (X_train.shape[0], X_train.shape[1],1))"
      ]
    },
    {
      "cell_type": "markdown",
      "metadata": {
        "id": "7s3NTDw4vae6"
      },
      "source": [
        "Now what do we do when we take into account the beggining of the time series to the rolling point of the value"
      ]
    },
    {
      "cell_type": "markdown",
      "metadata": {
        "id": "qdhJT7ptgrBB"
      },
      "source": [
        "**Feature Extraction**\n",
        "\n",
        "The purpose of this phase is to select only the important features which we will fed into the neural network(in other words we will be choosing feautures from ['date', 'high', 'low', 'close', 'volume'])"
      ]
    },
    {
      "cell_type": "code",
      "execution_count": null,
      "metadata": {
        "id": "RvNf5LOohOHH"
      },
      "outputs": [],
      "source": [
        "# Below we simply import the necessary Keras libraries needed to build our RNN\n",
        "#keras itself is simply tensorflows high level API for building and training models\n",
        "from keras.models import Sequential\n",
        "from keras.layers import Dense\n",
        "from keras.layers import LSTM\n",
        "from keras.layers import Dropout"
      ]
    },
    {
      "cell_type": "code",
      "execution_count": null,
      "metadata": {
        "id": "jbVzHu1rkTje"
      },
      "outputs": [],
      "source": [
        "#below we initialize the RNN\n",
        "model = Sequential()"
      ]
    },
    {
      "cell_type": "markdown",
      "metadata": {
        "id": "Nx5_1XPJmDhj"
      },
      "source": [
        "# Training the Neural Network\n",
        "\n",
        "In this stage of the process our data is fed to the neural network and trained to make predictions assigning random biases and weights to the model\n",
        "\n",
        "The LST model itself is composed of:\n",
        "   1.a sequential input layer\n",
        "   2.followed by 3 LSTM inpit layers\n",
        "   3.and a dense layer with activation\n",
        "   4.and finnally an output layer with the linear    activation function\n",
        "  "
      ]
    },
    {
      "cell_type": "code",
      "execution_count": null,
      "metadata": {
        "id": "uzxsnb1ZozXJ"
      },
      "outputs": [],
      "source": [
        "\n",
        "#adding the 1st LSTM layer and performing some normalization on the data\n",
        "model.add(LSTM(units = 50, return_sequences=True, input_shape=(X_train.shape[1], 1)))\n",
        "model.add(Dropout(0.2))\n",
        "\n",
        "\n",
        "\n",
        "#adding the 2nd LSTM layer\n",
        "model.add(LSTM(units = 50, return_sequences=True))\n",
        "model.add(Dropout(0.2))\n",
        "\n",
        "#adding the 3rd LSTM layer\n",
        "model.add(LSTM(units = 50, return_sequences=True))\n",
        "model.add(Dropout(0.2))\n",
        "\n",
        "#adding the 4th LSTM layer\n",
        "model.add(LSTM(units = 50))\n",
        "model.add(Dropout(0.2))\n",
        "\n",
        "\n",
        "#adding the output layer\n",
        "model.add(Dense(units = 1))\n",
        "\n"
      ]
    },
    {
      "cell_type": "markdown",
      "metadata": {
        "id": "i4hrlyIlrHHa"
      },
      "source": [
        "#Notes about Dropout: Purpose and Effects\n",
        "Dropout is a method of reducing overfitting in our neural network\n",
        "\n",
        "Dropouts are used as the help to make the neurons more robust giving them the ability to predict a trend without focusing on any one particular neruron"
      ]
    },
    {
      "cell_type": "markdown",
      "metadata": {
        "id": "ZIy0oq-DugRA"
      },
      "source": [
        "#Notes about the Optimizer below:\n",
        "The type of the optimizer selected can have drastic effects on the speed of the algorithm as it determines the speed at which the algorithm converges on the minimum value\n",
        "\n",
        "The \"Adam\" optimizer selected combines the benefits of two other optimizers (ADAgrad and RMSprop)\n",
        "\n"
      ]
    },
    {
      "cell_type": "code",
      "execution_count": null,
      "metadata": {
        "id": "T1qH6QwBx6OL",
        "colab": {
          "base_uri": "https://localhost:8080/"
        },
        "outputId": "41f5dc71-fa76-4471-c017-c4ffdad8a052"
      },
      "outputs": [
        {
          "output_type": "stream",
          "name": "stdout",
          "text": [
            "Epoch 1/50\n",
            "159/159 [==============================] - 38s 132ms/step - loss: 0.0022\n",
            "Epoch 2/50\n",
            "159/159 [==============================] - 18s 116ms/step - loss: 0.0015\n",
            "Epoch 3/50\n",
            "159/159 [==============================] - 18s 115ms/step - loss: 0.0014\n",
            "Epoch 4/50\n",
            "159/159 [==============================] - 19s 122ms/step - loss: 0.0013\n",
            "Epoch 5/50\n",
            "159/159 [==============================] - 18s 116ms/step - loss: 0.0012\n",
            "Epoch 6/50\n",
            "159/159 [==============================] - 23s 146ms/step - loss: 0.0010\n",
            "Epoch 7/50\n",
            "159/159 [==============================] - 25s 157ms/step - loss: 0.0010\n",
            "Epoch 8/50\n",
            "159/159 [==============================] - 19s 121ms/step - loss: 8.5923e-04\n",
            "Epoch 9/50\n",
            "159/159 [==============================] - 30s 188ms/step - loss: 7.4202e-04\n",
            "Epoch 10/50\n",
            "159/159 [==============================] - 18s 116ms/step - loss: 7.0375e-04\n",
            "Epoch 11/50\n",
            "159/159 [==============================] - 19s 120ms/step - loss: 7.0878e-04\n",
            "Epoch 12/50\n",
            "159/159 [==============================] - 23s 146ms/step - loss: 6.2422e-04\n",
            "Epoch 13/50\n",
            "159/159 [==============================] - 18s 116ms/step - loss: 5.6355e-04\n",
            "Epoch 14/50\n",
            "159/159 [==============================] - 19s 118ms/step - loss: 5.6743e-04\n",
            "Epoch 15/50\n",
            "159/159 [==============================] - 21s 135ms/step - loss: 5.3308e-04\n",
            "Epoch 16/50\n",
            "159/159 [==============================] - 23s 143ms/step - loss: 5.0494e-04\n",
            "Epoch 17/50\n",
            "159/159 [==============================] - 19s 121ms/step - loss: 5.0468e-04\n",
            "Epoch 18/50\n",
            "159/159 [==============================] - 19s 120ms/step - loss: 4.7748e-04\n",
            "Epoch 19/50\n",
            "159/159 [==============================] - 18s 116ms/step - loss: 5.2424e-04\n",
            "Epoch 20/50\n",
            "159/159 [==============================] - 18s 114ms/step - loss: 5.3006e-04\n",
            "Epoch 21/50\n",
            "159/159 [==============================] - 19s 120ms/step - loss: 4.7690e-04\n",
            "Epoch 22/50\n",
            "159/159 [==============================] - 18s 116ms/step - loss: 4.3672e-04\n",
            "Epoch 23/50\n",
            "159/159 [==============================] - 18s 115ms/step - loss: 5.1361e-04\n",
            "Epoch 24/50\n",
            "159/159 [==============================] - 18s 116ms/step - loss: 4.8095e-04\n",
            "Epoch 25/50\n",
            "159/159 [==============================] - 19s 122ms/step - loss: 4.1645e-04\n",
            "Epoch 26/50\n",
            "159/159 [==============================] - 18s 116ms/step - loss: 4.8451e-04\n",
            "Epoch 27/50\n",
            "159/159 [==============================] - 18s 115ms/step - loss: 5.3907e-04\n",
            "Epoch 28/50\n",
            "159/159 [==============================] - 18s 116ms/step - loss: 4.8977e-04\n",
            "Epoch 29/50\n",
            "159/159 [==============================] - 18s 116ms/step - loss: 5.0114e-04\n",
            "Epoch 30/50\n",
            "159/159 [==============================] - 19s 122ms/step - loss: 4.3483e-04\n",
            "Epoch 31/50\n",
            "159/159 [==============================] - 18s 116ms/step - loss: 4.5498e-04\n",
            "Epoch 32/50\n",
            "159/159 [==============================] - 19s 117ms/step - loss: 4.6729e-04\n",
            "Epoch 33/50\n",
            "159/159 [==============================] - 22s 136ms/step - loss: 4.1120e-04\n",
            "Epoch 34/50\n",
            "159/159 [==============================] - 21s 135ms/step - loss: 4.2228e-04\n",
            "Epoch 35/50\n",
            "159/159 [==============================] - 19s 116ms/step - loss: 4.6247e-04\n",
            "Epoch 36/50\n",
            "159/159 [==============================] - 19s 117ms/step - loss: 3.8804e-04\n",
            "Epoch 37/50\n",
            "159/159 [==============================] - 21s 134ms/step - loss: 4.2251e-04\n",
            "Epoch 38/50\n",
            "159/159 [==============================] - 19s 121ms/step - loss: 4.2406e-04\n",
            "Epoch 39/50\n",
            "159/159 [==============================] - 18s 116ms/step - loss: 4.4659e-04\n",
            "Epoch 40/50\n",
            "159/159 [==============================] - 18s 116ms/step - loss: 3.9606e-04\n",
            "Epoch 41/50\n",
            "159/159 [==============================] - 23s 147ms/step - loss: 4.6508e-04\n",
            "Epoch 42/50\n",
            "159/159 [==============================] - 21s 131ms/step - loss: 4.3127e-04\n",
            "Epoch 43/50\n",
            "159/159 [==============================] - 21s 132ms/step - loss: 4.0537e-04\n",
            "Epoch 44/50\n",
            "159/159 [==============================] - 18s 116ms/step - loss: 4.0434e-04\n",
            "Epoch 45/50\n",
            "159/159 [==============================] - 19s 117ms/step - loss: 3.6722e-04\n",
            "Epoch 46/50\n",
            "159/159 [==============================] - 19s 116ms/step - loss: 3.8513e-04\n",
            "Epoch 47/50\n",
            "159/159 [==============================] - 19s 122ms/step - loss: 4.3850e-04\n",
            "Epoch 48/50\n",
            "159/159 [==============================] - 18s 116ms/step - loss: 4.7543e-04\n",
            "Epoch 49/50\n",
            "159/159 [==============================] - 25s 158ms/step - loss: 4.4824e-04\n",
            "Epoch 50/50\n",
            "159/159 [==============================] - 25s 160ms/step - loss: 3.9544e-04\n"
          ]
        },
        {
          "output_type": "execute_result",
          "data": {
            "text/plain": [
              "<keras.callbacks.History at 0x7f1a9dc3e090>"
            ]
          },
          "metadata": {},
          "execution_count": 19
        }
      ],
      "source": [
        "model.compile(optimizer = 'adam', loss = 'mean_squared_error')\n",
        "\n",
        "#performing the fitting between our RNN and the training dataset\n",
        "model.fit(X_train, y_train, epochs = 50, batch_size = 32)"
      ]
    },
    {
      "cell_type": "code",
      "source": [],
      "metadata": {
        "id": "R3wA6KFXnFHW"
      },
      "execution_count": null,
      "outputs": []
    },
    {
      "cell_type": "markdown",
      "metadata": {
        "id": "d2zHqycY5r5u"
      },
      "source": [
        "# Visualizing the results of the real stock prices"
      ]
    },
    {
      "cell_type": "code",
      "execution_count": null,
      "metadata": {
        "id": "6ydD2dMj57fc"
      },
      "outputs": [],
      "source": [
        "\n",
        "brk2 = yf.Ticker('BRK-B')\n",
        "data_test = brk2.history(period=\"max\", auto_adjust=True)\n",
        "actual_stock_price= data_test.iloc[:, 1:2].values\n",
        "\n",
        "\n",
        "\n"
      ]
    },
    {
      "cell_type": "code",
      "execution_count": null,
      "metadata": {
        "id": "VjbIrYRu7anz",
        "colab": {
          "base_uri": "https://localhost:8080/",
          "height": 238
        },
        "outputId": "9295821f-ae83-4eee-9d17-1ddb66b1e1aa"
      },
      "outputs": [
        {
          "output_type": "execute_result",
          "data": {
            "text/plain": [
              "                  Open        High         Low       Close   Volume  \\\n",
              "Date                                                                  \n",
              "2022-07-19  279.000000  284.079987  278.170013  283.549988  3590200   \n",
              "2022-07-20  284.640015  286.440002  283.899994  286.040009  3877200   \n",
              "2022-07-21  287.000000  287.239990  282.089996  286.850006  3699000   \n",
              "2022-07-22  288.100006  289.399994  283.619995  285.929993  2876100   \n",
              "2022-07-25  287.209991  289.065002  285.153412  287.989990  3131043   \n",
              "\n",
              "            Dividends  Stock Splits  \n",
              "Date                                 \n",
              "2022-07-19          0           0.0  \n",
              "2022-07-20          0           0.0  \n",
              "2022-07-21          0           0.0  \n",
              "2022-07-22          0           0.0  \n",
              "2022-07-25          0           0.0  "
            ],
            "text/html": [
              "\n",
              "  <div id=\"df-41c46d92-3ed9-4bb6-af94-370db31a9d0e\">\n",
              "    <div class=\"colab-df-container\">\n",
              "      <div>\n",
              "<style scoped>\n",
              "    .dataframe tbody tr th:only-of-type {\n",
              "        vertical-align: middle;\n",
              "    }\n",
              "\n",
              "    .dataframe tbody tr th {\n",
              "        vertical-align: top;\n",
              "    }\n",
              "\n",
              "    .dataframe thead th {\n",
              "        text-align: right;\n",
              "    }\n",
              "</style>\n",
              "<table border=\"1\" class=\"dataframe\">\n",
              "  <thead>\n",
              "    <tr style=\"text-align: right;\">\n",
              "      <th></th>\n",
              "      <th>Open</th>\n",
              "      <th>High</th>\n",
              "      <th>Low</th>\n",
              "      <th>Close</th>\n",
              "      <th>Volume</th>\n",
              "      <th>Dividends</th>\n",
              "      <th>Stock Splits</th>\n",
              "    </tr>\n",
              "    <tr>\n",
              "      <th>Date</th>\n",
              "      <th></th>\n",
              "      <th></th>\n",
              "      <th></th>\n",
              "      <th></th>\n",
              "      <th></th>\n",
              "      <th></th>\n",
              "      <th></th>\n",
              "    </tr>\n",
              "  </thead>\n",
              "  <tbody>\n",
              "    <tr>\n",
              "      <th>2022-07-19</th>\n",
              "      <td>279.000000</td>\n",
              "      <td>284.079987</td>\n",
              "      <td>278.170013</td>\n",
              "      <td>283.549988</td>\n",
              "      <td>3590200</td>\n",
              "      <td>0</td>\n",
              "      <td>0.0</td>\n",
              "    </tr>\n",
              "    <tr>\n",
              "      <th>2022-07-20</th>\n",
              "      <td>284.640015</td>\n",
              "      <td>286.440002</td>\n",
              "      <td>283.899994</td>\n",
              "      <td>286.040009</td>\n",
              "      <td>3877200</td>\n",
              "      <td>0</td>\n",
              "      <td>0.0</td>\n",
              "    </tr>\n",
              "    <tr>\n",
              "      <th>2022-07-21</th>\n",
              "      <td>287.000000</td>\n",
              "      <td>287.239990</td>\n",
              "      <td>282.089996</td>\n",
              "      <td>286.850006</td>\n",
              "      <td>3699000</td>\n",
              "      <td>0</td>\n",
              "      <td>0.0</td>\n",
              "    </tr>\n",
              "    <tr>\n",
              "      <th>2022-07-22</th>\n",
              "      <td>288.100006</td>\n",
              "      <td>289.399994</td>\n",
              "      <td>283.619995</td>\n",
              "      <td>285.929993</td>\n",
              "      <td>2876100</td>\n",
              "      <td>0</td>\n",
              "      <td>0.0</td>\n",
              "    </tr>\n",
              "    <tr>\n",
              "      <th>2022-07-25</th>\n",
              "      <td>287.209991</td>\n",
              "      <td>289.065002</td>\n",
              "      <td>285.153412</td>\n",
              "      <td>287.989990</td>\n",
              "      <td>3131043</td>\n",
              "      <td>0</td>\n",
              "      <td>0.0</td>\n",
              "    </tr>\n",
              "  </tbody>\n",
              "</table>\n",
              "</div>\n",
              "      <button class=\"colab-df-convert\" onclick=\"convertToInteractive('df-41c46d92-3ed9-4bb6-af94-370db31a9d0e')\"\n",
              "              title=\"Convert this dataframe to an interactive table.\"\n",
              "              style=\"display:none;\">\n",
              "        \n",
              "  <svg xmlns=\"http://www.w3.org/2000/svg\" height=\"24px\"viewBox=\"0 0 24 24\"\n",
              "       width=\"24px\">\n",
              "    <path d=\"M0 0h24v24H0V0z\" fill=\"none\"/>\n",
              "    <path d=\"M18.56 5.44l.94 2.06.94-2.06 2.06-.94-2.06-.94-.94-2.06-.94 2.06-2.06.94zm-11 1L8.5 8.5l.94-2.06 2.06-.94-2.06-.94L8.5 2.5l-.94 2.06-2.06.94zm10 10l.94 2.06.94-2.06 2.06-.94-2.06-.94-.94-2.06-.94 2.06-2.06.94z\"/><path d=\"M17.41 7.96l-1.37-1.37c-.4-.4-.92-.59-1.43-.59-.52 0-1.04.2-1.43.59L10.3 9.45l-7.72 7.72c-.78.78-.78 2.05 0 2.83L4 21.41c.39.39.9.59 1.41.59.51 0 1.02-.2 1.41-.59l7.78-7.78 2.81-2.81c.8-.78.8-2.07 0-2.86zM5.41 20L4 18.59l7.72-7.72 1.47 1.35L5.41 20z\"/>\n",
              "  </svg>\n",
              "      </button>\n",
              "      \n",
              "  <style>\n",
              "    .colab-df-container {\n",
              "      display:flex;\n",
              "      flex-wrap:wrap;\n",
              "      gap: 12px;\n",
              "    }\n",
              "\n",
              "    .colab-df-convert {\n",
              "      background-color: #E8F0FE;\n",
              "      border: none;\n",
              "      border-radius: 50%;\n",
              "      cursor: pointer;\n",
              "      display: none;\n",
              "      fill: #1967D2;\n",
              "      height: 32px;\n",
              "      padding: 0 0 0 0;\n",
              "      width: 32px;\n",
              "    }\n",
              "\n",
              "    .colab-df-convert:hover {\n",
              "      background-color: #E2EBFA;\n",
              "      box-shadow: 0px 1px 2px rgba(60, 64, 67, 0.3), 0px 1px 3px 1px rgba(60, 64, 67, 0.15);\n",
              "      fill: #174EA6;\n",
              "    }\n",
              "\n",
              "    [theme=dark] .colab-df-convert {\n",
              "      background-color: #3B4455;\n",
              "      fill: #D2E3FC;\n",
              "    }\n",
              "\n",
              "    [theme=dark] .colab-df-convert:hover {\n",
              "      background-color: #434B5C;\n",
              "      box-shadow: 0px 1px 3px 1px rgba(0, 0, 0, 0.15);\n",
              "      filter: drop-shadow(0px 1px 2px rgba(0, 0, 0, 0.3));\n",
              "      fill: #FFFFFF;\n",
              "    }\n",
              "  </style>\n",
              "\n",
              "      <script>\n",
              "        const buttonEl =\n",
              "          document.querySelector('#df-41c46d92-3ed9-4bb6-af94-370db31a9d0e button.colab-df-convert');\n",
              "        buttonEl.style.display =\n",
              "          google.colab.kernel.accessAllowed ? 'block' : 'none';\n",
              "\n",
              "        async function convertToInteractive(key) {\n",
              "          const element = document.querySelector('#df-41c46d92-3ed9-4bb6-af94-370db31a9d0e');\n",
              "          const dataTable =\n",
              "            await google.colab.kernel.invokeFunction('convertToInteractive',\n",
              "                                                     [key], {});\n",
              "          if (!dataTable) return;\n",
              "\n",
              "          const docLinkHtml = 'Like what you see? Visit the ' +\n",
              "            '<a target=\"_blank\" href=https://colab.research.google.com/notebooks/data_table.ipynb>data table notebook</a>'\n",
              "            + ' to learn more about interactive tables.';\n",
              "          element.innerHTML = '';\n",
              "          dataTable['output_type'] = 'display_data';\n",
              "          await google.colab.output.renderOutput(dataTable, element);\n",
              "          const docLink = document.createElement('div');\n",
              "          docLink.innerHTML = docLinkHtml;\n",
              "          element.appendChild(docLink);\n",
              "        }\n",
              "      </script>\n",
              "    </div>\n",
              "  </div>\n",
              "  "
            ]
          },
          "metadata": {},
          "execution_count": 21
        }
      ],
      "source": [
        "data_test.tail()"
      ]
    },
    {
      "cell_type": "code",
      "execution_count": null,
      "metadata": {
        "id": "Sc7x5_0J7ybG"
      },
      "outputs": [],
      "source": [
        "#data_test.info()"
      ]
    },
    {
      "cell_type": "code",
      "execution_count": null,
      "metadata": {
        "id": "t27PxZhp986w"
      },
      "outputs": [],
      "source": [
        "test_data=data_test['Open']\n",
        "test_data=pd.DataFrame(test_data)"
      ]
    },
    {
      "cell_type": "code",
      "execution_count": null,
      "metadata": {
        "id": "Yb92ZPLc-Hto",
        "colab": {
          "base_uri": "https://localhost:8080/"
        },
        "outputId": "8c413ddc-40e9-45d5-a379-c34c570f6de4"
      },
      "outputs": [
        {
          "output_type": "stream",
          "name": "stdout",
          "text": [
            "<class 'pandas.core.frame.DataFrame'>\n",
            "DatetimeIndex: 6597 entries, 1996-05-09 to 2022-07-25\n",
            "Data columns (total 1 columns):\n",
            " #   Column  Non-Null Count  Dtype  \n",
            "---  ------  --------------  -----  \n",
            " 0   Open    6597 non-null   float64\n",
            "dtypes: float64(1)\n",
            "memory usage: 103.1 KB\n"
          ]
        }
      ],
      "source": [
        "test_data.info()"
      ]
    },
    {
      "cell_type": "code",
      "execution_count": null,
      "metadata": {
        "id": "KchEHLvP-KVa",
        "colab": {
          "base_uri": "https://localhost:8080/"
        },
        "outputId": "932b64e6-9b29-44b4-9c98-387ae07de30b"
      },
      "outputs": [
        {
          "output_type": "stream",
          "name": "stderr",
          "text": [
            "/usr/local/lib/python3.7/dist-packages/sklearn/base.py:451: UserWarning: X does not have valid feature names, but MinMaxScaler was fitted with feature names\n",
            "  \"X does not have valid feature names, but\"\n"
          ]
        }
      ],
      "source": [
        "data_total= pd.concat((data['Open'], data_test['Open']), axis = 0)\n",
        "model_inputs = data_total[len(data_total) -len(data_test) -prediction_days:].values\n",
        "model_inputs = model_inputs.reshape(-1,1)\n",
        "model_inputs = sc.transform(model_inputs)\n",
        "X_test =[]\n",
        "\n",
        "#below 60 and 6651 need to be changed to prediction_days and model_inputs + 1\n",
        "for i in range(prediction_days,len(model_inputs)):\n",
        "  X_test.append(model_inputs[i-prediction_days:i,0])\n",
        "\n",
        "X_test =np.array(X_test)\n",
        "X_test =np.reshape(X_test, (X_test.shape[0], X_test.shape[1], 1))\n",
        "predicted_stock_price = model.predict(X_test)\n",
        "predicted_stock_price = sc.inverse_transform(predicted_stock_price)"
      ]
    },
    {
      "cell_type": "code",
      "execution_count": null,
      "metadata": {
        "id": "vUP7BZzdCMoj",
        "colab": {
          "base_uri": "https://localhost:8080/",
          "height": 363
        },
        "outputId": "445da2b2-5d1f-4c7d-982c-7600effbc436"
      },
      "outputs": [
        {
          "output_type": "execute_result",
          "data": {
            "text/plain": [
              "           0\n",
              "0  37.639500\n",
              "1  29.939758\n",
              "2  24.807005\n",
              "3  23.030117\n",
              "4  23.357698\n",
              "5  23.906893\n",
              "6  23.826134\n",
              "7  23.335485\n",
              "8  23.232191\n",
              "9  23.456686"
            ],
            "text/html": [
              "\n",
              "  <div id=\"df-041a17a9-d071-49d5-842f-f25a61096524\">\n",
              "    <div class=\"colab-df-container\">\n",
              "      <div>\n",
              "<style scoped>\n",
              "    .dataframe tbody tr th:only-of-type {\n",
              "        vertical-align: middle;\n",
              "    }\n",
              "\n",
              "    .dataframe tbody tr th {\n",
              "        vertical-align: top;\n",
              "    }\n",
              "\n",
              "    .dataframe thead th {\n",
              "        text-align: right;\n",
              "    }\n",
              "</style>\n",
              "<table border=\"1\" class=\"dataframe\">\n",
              "  <thead>\n",
              "    <tr style=\"text-align: right;\">\n",
              "      <th></th>\n",
              "      <th>0</th>\n",
              "    </tr>\n",
              "  </thead>\n",
              "  <tbody>\n",
              "    <tr>\n",
              "      <th>0</th>\n",
              "      <td>37.639500</td>\n",
              "    </tr>\n",
              "    <tr>\n",
              "      <th>1</th>\n",
              "      <td>29.939758</td>\n",
              "    </tr>\n",
              "    <tr>\n",
              "      <th>2</th>\n",
              "      <td>24.807005</td>\n",
              "    </tr>\n",
              "    <tr>\n",
              "      <th>3</th>\n",
              "      <td>23.030117</td>\n",
              "    </tr>\n",
              "    <tr>\n",
              "      <th>4</th>\n",
              "      <td>23.357698</td>\n",
              "    </tr>\n",
              "    <tr>\n",
              "      <th>5</th>\n",
              "      <td>23.906893</td>\n",
              "    </tr>\n",
              "    <tr>\n",
              "      <th>6</th>\n",
              "      <td>23.826134</td>\n",
              "    </tr>\n",
              "    <tr>\n",
              "      <th>7</th>\n",
              "      <td>23.335485</td>\n",
              "    </tr>\n",
              "    <tr>\n",
              "      <th>8</th>\n",
              "      <td>23.232191</td>\n",
              "    </tr>\n",
              "    <tr>\n",
              "      <th>9</th>\n",
              "      <td>23.456686</td>\n",
              "    </tr>\n",
              "  </tbody>\n",
              "</table>\n",
              "</div>\n",
              "      <button class=\"colab-df-convert\" onclick=\"convertToInteractive('df-041a17a9-d071-49d5-842f-f25a61096524')\"\n",
              "              title=\"Convert this dataframe to an interactive table.\"\n",
              "              style=\"display:none;\">\n",
              "        \n",
              "  <svg xmlns=\"http://www.w3.org/2000/svg\" height=\"24px\"viewBox=\"0 0 24 24\"\n",
              "       width=\"24px\">\n",
              "    <path d=\"M0 0h24v24H0V0z\" fill=\"none\"/>\n",
              "    <path d=\"M18.56 5.44l.94 2.06.94-2.06 2.06-.94-2.06-.94-.94-2.06-.94 2.06-2.06.94zm-11 1L8.5 8.5l.94-2.06 2.06-.94-2.06-.94L8.5 2.5l-.94 2.06-2.06.94zm10 10l.94 2.06.94-2.06 2.06-.94-2.06-.94-.94-2.06-.94 2.06-2.06.94z\"/><path d=\"M17.41 7.96l-1.37-1.37c-.4-.4-.92-.59-1.43-.59-.52 0-1.04.2-1.43.59L10.3 9.45l-7.72 7.72c-.78.78-.78 2.05 0 2.83L4 21.41c.39.39.9.59 1.41.59.51 0 1.02-.2 1.41-.59l7.78-7.78 2.81-2.81c.8-.78.8-2.07 0-2.86zM5.41 20L4 18.59l7.72-7.72 1.47 1.35L5.41 20z\"/>\n",
              "  </svg>\n",
              "      </button>\n",
              "      \n",
              "  <style>\n",
              "    .colab-df-container {\n",
              "      display:flex;\n",
              "      flex-wrap:wrap;\n",
              "      gap: 12px;\n",
              "    }\n",
              "\n",
              "    .colab-df-convert {\n",
              "      background-color: #E8F0FE;\n",
              "      border: none;\n",
              "      border-radius: 50%;\n",
              "      cursor: pointer;\n",
              "      display: none;\n",
              "      fill: #1967D2;\n",
              "      height: 32px;\n",
              "      padding: 0 0 0 0;\n",
              "      width: 32px;\n",
              "    }\n",
              "\n",
              "    .colab-df-convert:hover {\n",
              "      background-color: #E2EBFA;\n",
              "      box-shadow: 0px 1px 2px rgba(60, 64, 67, 0.3), 0px 1px 3px 1px rgba(60, 64, 67, 0.15);\n",
              "      fill: #174EA6;\n",
              "    }\n",
              "\n",
              "    [theme=dark] .colab-df-convert {\n",
              "      background-color: #3B4455;\n",
              "      fill: #D2E3FC;\n",
              "    }\n",
              "\n",
              "    [theme=dark] .colab-df-convert:hover {\n",
              "      background-color: #434B5C;\n",
              "      box-shadow: 0px 1px 3px 1px rgba(0, 0, 0, 0.15);\n",
              "      filter: drop-shadow(0px 1px 2px rgba(0, 0, 0, 0.3));\n",
              "      fill: #FFFFFF;\n",
              "    }\n",
              "  </style>\n",
              "\n",
              "      <script>\n",
              "        const buttonEl =\n",
              "          document.querySelector('#df-041a17a9-d071-49d5-842f-f25a61096524 button.colab-df-convert');\n",
              "        buttonEl.style.display =\n",
              "          google.colab.kernel.accessAllowed ? 'block' : 'none';\n",
              "\n",
              "        async function convertToInteractive(key) {\n",
              "          const element = document.querySelector('#df-041a17a9-d071-49d5-842f-f25a61096524');\n",
              "          const dataTable =\n",
              "            await google.colab.kernel.invokeFunction('convertToInteractive',\n",
              "                                                     [key], {});\n",
              "          if (!dataTable) return;\n",
              "\n",
              "          const docLinkHtml = 'Like what you see? Visit the ' +\n",
              "            '<a target=\"_blank\" href=https://colab.research.google.com/notebooks/data_table.ipynb>data table notebook</a>'\n",
              "            + ' to learn more about interactive tables.';\n",
              "          element.innerHTML = '';\n",
              "          dataTable['output_type'] = 'display_data';\n",
              "          await google.colab.output.renderOutput(dataTable, element);\n",
              "          const docLink = document.createElement('div');\n",
              "          docLink.innerHTML = docLinkHtml;\n",
              "          element.appendChild(docLink);\n",
              "        }\n",
              "      </script>\n",
              "    </div>\n",
              "  </div>\n",
              "  "
            ]
          },
          "metadata": {},
          "execution_count": 26
        }
      ],
      "source": [
        "predicted_stock_price=pd.DataFrame(predicted_stock_price)\n",
        "#predicted_stock_price.info()\n",
        "predicted_stock_price.head(10)"
      ]
    },
    {
      "cell_type": "code",
      "execution_count": null,
      "metadata": {
        "id": "9fBRJEwPCr9a",
        "colab": {
          "base_uri": "https://localhost:8080/",
          "height": 295
        },
        "outputId": "785cd5a9-6fd3-4952-cb32-e44a62686424"
      },
      "outputs": [
        {
          "output_type": "display_data",
          "data": {
            "text/plain": [
              "<Figure size 432x288 with 1 Axes>"
            ],
            "image/png": "[encoded data removed]"
          },
          "metadata": {
            "needs_background": "light"
          }
        }
      ],
      "source": [
        "#using matplot lib to visualize the results of the predicted and the actual\n",
        "\n",
        "plt.plot(actual_stock_price,color = 'black', label = 'Actual NOC stock price')\n",
        "plt.plot(predicted_stock_price,color = 'blue', label = 'Predicted NOC stock price')\n",
        "plt.title('NOC Stock Price Prediction')\n",
        "plt.xlabel('Time')\n",
        "plt.ylabel('NOC Stock Price')\n",
        "plt.legend()\n",
        "plt.show()"
      ]
    },
    {
      "cell_type": "markdown",
      "source": [
        "**And now.. Prediction using a Decision Tree**"
      ],
      "metadata": {
        "id": "UpO2d5fhLuqR"
      }
    },
    {
      "cell_type": "code",
      "execution_count": null,
      "metadata": {
        "id": "K69NZ9YYcgNJ",
        "colab": {
          "base_uri": "https://localhost:8080/",
          "height": 238
        },
        "outputId": "29ca3ed0-e5e0-4a77-b70f-df6a2fcf1203"
      },
      "outputs": [
        {
          "output_type": "execute_result",
          "data": {
            "text/plain": [
              "                Close  Prediction\n",
              "Date                             \n",
              "2022-07-19  37.924999         NaN\n",
              "2022-07-20  39.687500         NaN\n",
              "2022-07-21  38.367500         NaN\n",
              "2022-07-22  35.779999         NaN\n",
              "2022-07-25  33.980000         NaN"
            ],
            "text/html": [
              "\n",
              "  <div id=\"df-b9175382-8896-4650-b210-afd1ca7c8bff\">\n",
              "    <div class=\"colab-df-container\">\n",
              "      <div>\n",
              "<style scoped>\n",
              "    .dataframe tbody tr th:only-of-type {\n",
              "        vertical-align: middle;\n",
              "    }\n",
              "\n",
              "    .dataframe tbody tr th {\n",
              "        vertical-align: top;\n",
              "    }\n",
              "\n",
              "    .dataframe thead th {\n",
              "        text-align: right;\n",
              "    }\n",
              "</style>\n",
              "<table border=\"1\" class=\"dataframe\">\n",
              "  <thead>\n",
              "    <tr style=\"text-align: right;\">\n",
              "      <th></th>\n",
              "      <th>Close</th>\n",
              "      <th>Prediction</th>\n",
              "    </tr>\n",
              "    <tr>\n",
              "      <th>Date</th>\n",
              "      <th></th>\n",
              "      <th></th>\n",
              "    </tr>\n",
              "  </thead>\n",
              "  <tbody>\n",
              "    <tr>\n",
              "      <th>2022-07-19</th>\n",
              "      <td>37.924999</td>\n",
              "      <td>NaN</td>\n",
              "    </tr>\n",
              "    <tr>\n",
              "      <th>2022-07-20</th>\n",
              "      <td>39.687500</td>\n",
              "      <td>NaN</td>\n",
              "    </tr>\n",
              "    <tr>\n",
              "      <th>2022-07-21</th>\n",
              "      <td>38.367500</td>\n",
              "      <td>NaN</td>\n",
              "    </tr>\n",
              "    <tr>\n",
              "      <th>2022-07-22</th>\n",
              "      <td>35.779999</td>\n",
              "      <td>NaN</td>\n",
              "    </tr>\n",
              "    <tr>\n",
              "      <th>2022-07-25</th>\n",
              "      <td>33.980000</td>\n",
              "      <td>NaN</td>\n",
              "    </tr>\n",
              "  </tbody>\n",
              "</table>\n",
              "</div>\n",
              "      <button class=\"colab-df-convert\" onclick=\"convertToInteractive('df-b9175382-8896-4650-b210-afd1ca7c8bff')\"\n",
              "              title=\"Convert this dataframe to an interactive table.\"\n",
              "              style=\"display:none;\">\n",
              "        \n",
              "  <svg xmlns=\"http://www.w3.org/2000/svg\" height=\"24px\"viewBox=\"0 0 24 24\"\n",
              "       width=\"24px\">\n",
              "    <path d=\"M0 0h24v24H0V0z\" fill=\"none\"/>\n",
              "    <path d=\"M18.56 5.44l.94 2.06.94-2.06 2.06-.94-2.06-.94-.94-2.06-.94 2.06-2.06.94zm-11 1L8.5 8.5l.94-2.06 2.06-.94-2.06-.94L8.5 2.5l-.94 2.06-2.06.94zm10 10l.94 2.06.94-2.06 2.06-.94-2.06-.94-.94-2.06-.94 2.06-2.06.94z\"/><path d=\"M17.41 7.96l-1.37-1.37c-.4-.4-.92-.59-1.43-.59-.52 0-1.04.2-1.43.59L10.3 9.45l-7.72 7.72c-.78.78-.78 2.05 0 2.83L4 21.41c.39.39.9.59 1.41.59.51 0 1.02-.2 1.41-.59l7.78-7.78 2.81-2.81c.8-.78.8-2.07 0-2.86zM5.41 20L4 18.59l7.72-7.72 1.47 1.35L5.41 20z\"/>\n",
              "  </svg>\n",
              "      </button>\n",
              "      \n",
              "  <style>\n",
              "    .colab-df-container {\n",
              "      display:flex;\n",
              "      flex-wrap:wrap;\n",
              "      gap: 12px;\n",
              "    }\n",
              "\n",
              "    .colab-df-convert {\n",
              "      background-color: #E8F0FE;\n",
              "      border: none;\n",
              "      border-radius: 50%;\n",
              "      cursor: pointer;\n",
              "      display: none;\n",
              "      fill: #1967D2;\n",
              "      height: 32px;\n",
              "      padding: 0 0 0 0;\n",
              "      width: 32px;\n",
              "    }\n",
              "\n",
              "    .colab-df-convert:hover {\n",
              "      background-color: #E2EBFA;\n",
              "      box-shadow: 0px 1px 2px rgba(60, 64, 67, 0.3), 0px 1px 3px 1px rgba(60, 64, 67, 0.15);\n",
              "      fill: #174EA6;\n",
              "    }\n",
              "\n",
              "    [theme=dark] .colab-df-convert {\n",
              "      background-color: #3B4455;\n",
              "      fill: #D2E3FC;\n",
              "    }\n",
              "\n",
              "    [theme=dark] .colab-df-convert:hover {\n",
              "      background-color: #434B5C;\n",
              "      box-shadow: 0px 1px 3px 1px rgba(0, 0, 0, 0.15);\n",
              "      filter: drop-shadow(0px 1px 2px rgba(0, 0, 0, 0.3));\n",
              "      fill: #FFFFFF;\n",
              "    }\n",
              "  </style>\n",
              "\n",
              "      <script>\n",
              "        const buttonEl =\n",
              "          document.querySelector('#df-b9175382-8896-4650-b210-afd1ca7c8bff button.colab-df-convert');\n",
              "        buttonEl.style.display =\n",
              "          google.colab.kernel.accessAllowed ? 'block' : 'none';\n",
              "\n",
              "        async function convertToInteractive(key) {\n",
              "          const element = document.querySelector('#df-b9175382-8896-4650-b210-afd1ca7c8bff');\n",
              "          const dataTable =\n",
              "            await google.colab.kernel.invokeFunction('convertToInteractive',\n",
              "                                                     [key], {});\n",
              "          if (!dataTable) return;\n",
              "\n",
              "          const docLinkHtml = 'Like what you see? Visit the ' +\n",
              "            '<a target=\"_blank\" href=https://colab.research.google.com/notebooks/data_table.ipynb>data table notebook</a>'\n",
              "            + ' to learn more about interactive tables.';\n",
              "          element.innerHTML = '';\n",
              "          dataTable['output_type'] = 'display_data';\n",
              "          await google.colab.output.renderOutput(dataTable, element);\n",
              "          const docLink = document.createElement('div');\n",
              "          docLink.innerHTML = docLinkHtml;\n",
              "          element.appendChild(docLink);\n",
              "        }\n",
              "      </script>\n",
              "    </div>\n",
              "  </div>\n",
              "  "
            ]
          },
          "metadata": {},
          "execution_count": 28
        }
      ],
      "source": [
        "#Decision Tree Performance\n",
        "# inspiration for the analysis below was borrowed from the link below\n",
        "# https://www.kaggle.com/code/rishidamarla/stock-market-prediction-using-decision-tree/notebook\n",
        "df2 = data['Close']\n",
        "df2 = pd.DataFrame(df2)\n",
        "\n",
        "future_days = 100\n",
        "df2['Prediction'] = df2['Close'].shift(-future_days)\n",
        "df2.tail()"
      ]
    },
    {
      "cell_type": "code",
      "source": [
        "plt.figure(figsize=(16,8))\n",
        "plt.title('TWTR')\n",
        "plt.xlabel('Day')\n",
        "plt.ylabel('Opening Price USD ($)')\n",
        "plt.plot(data['Open'])\n",
        "plt.show()"
      ],
      "metadata": {
        "colab": {
          "base_uri": "https://localhost:8080/",
          "height": 451
        },
        "id": "VN2TQ-LZIxo8",
        "outputId": "0123e107-3821-4eec-868b-8915fa789dce"
      },
      "execution_count": null,
      "outputs": [
        {
          "output_type": "display_data",
          "data": {
            "text/plain": [
              "<Figure size 1152x576 with 1 Axes>"
            ],
            "image/png": "[encoded data removed]"
          },
          "metadata": {
            "needs_background": "light"
          }
        }
      ]
    },
    {
      "cell_type": "code",
      "source": [
        "plt.figure(figsize=(16,8))\n",
        "plt.title('TWTR')\n",
        "plt.xlabel('Days')\n",
        "plt.ylabel('High Price USD ($)')\n",
        "plt.plot(data['High'])\n",
        "plt.show()"
      ],
      "metadata": {
        "colab": {
          "base_uri": "https://localhost:8080/",
          "height": 448
        },
        "id": "aTnKd9nnJD3J",
        "outputId": "81d48de1-a1aa-4496-f9ca-33aa11644974"
      },
      "execution_count": null,
      "outputs": [
        {
          "output_type": "display_data",
          "data": {
            "text/plain": [
              "<Figure size 1152x576 with 1 Axes>"
            ],
            "image/png": "[encoded data removed]"
          },
          "metadata": {
            "needs_background": "light"
          }
        }
      ]
    },
    {
      "cell_type": "code",
      "source": [
        "plt.figure(figsize=(16,8))\n",
        "plt.title('TWTR')\n",
        "plt.xlabel('Days')\n",
        "plt.ylabel('Low Price USD ($)')\n",
        "plt.plot(data['Low'])\n",
        "plt.show()"
      ],
      "metadata": {
        "colab": {
          "base_uri": "https://localhost:8080/",
          "height": 451
        },
        "id": "_XLCZyLPJrfr",
        "outputId": "37515ba5-50a3-4b2d-c5de-e558745dc9be"
      },
      "execution_count": null,
      "outputs": [
        {
          "output_type": "display_data",
          "data": {
            "text/plain": [
              "<Figure size 1152x576 with 1 Axes>"
            ],
            "image/png": "[encoded data removed]"
          },
          "metadata": {
            "needs_background": "light"
          }
        }
      ]
    },
    {
      "cell_type": "code",
      "source": [
        "plt.figure(figsize=(16,8))\n",
        "plt.title('TWTR')\n",
        "plt.xlabel('Day')\n",
        "plt.ylabel('Closing Price USD ($)')\n",
        "plt.plot(data['Close'])\n",
        "plt.show()"
      ],
      "metadata": {
        "colab": {
          "base_uri": "https://localhost:8080/",
          "height": 451
        },
        "id": "PBM_DoS7Jx4Y",
        "outputId": "2e6e3ea1-ca02-4527-f12f-e8d6f1bce3d6"
      },
      "execution_count": null,
      "outputs": [
        {
          "output_type": "display_data",
          "data": {
            "text/plain": [
              "<Figure size 1152x576 with 1 Axes>"
            ],
            "image/png": "[encoded data removed]"
          },
          "metadata": {
            "needs_background": "light"
          }
        }
      ]
    },
    {
      "cell_type": "code",
      "execution_count": null,
      "metadata": {
        "id": "mbFsM_CnQRzM",
        "colab": {
          "base_uri": "https://localhost:8080/"
        },
        "outputId": "0684c4b9-b710-4b94-8f0d-185806ed5909"
      },
      "outputs": [
        {
          "output_type": "stream",
          "name": "stdout",
          "text": [
            "[[ 1.6916666 ]\n",
            " [ 1.68325055]\n",
            " [ 1.67483413]\n",
            " ...\n",
            " [29.64500046]\n",
            " [30.83499908]\n",
            " [29.75499916]]\n"
          ]
        },
        {
          "output_type": "stream",
          "name": "stderr",
          "text": [
            "/usr/local/lib/python3.7/dist-packages/ipykernel_launcher.py:1: FutureWarning: In a future version of pandas all arguments of DataFrame.drop except for the argument 'labels' will be keyword-only\n",
            "  \"\"\"Entry point for launching an IPython kernel.\n"
          ]
        }
      ],
      "source": [
        "X2 = np.array(df2.drop(['Prediction'], 1))[:-future_days]\n",
        "print(X2)"
      ]
    },
    {
      "cell_type": "code",
      "source": [
        "y2 = np.array(df2['Prediction'])[:-future_days]\n",
        "print(y2)"
      ],
      "metadata": {
        "colab": {
          "base_uri": "https://localhost:8080/"
        },
        "id": "tWCnq8HdHDoM",
        "outputId": "060aedd5-8b44-42fe-e0eb-65e30e062d4c"
      },
      "execution_count": null,
      "outputs": [
        {
          "output_type": "stream",
          "name": "stdout",
          "text": [
            "[ 1.64116907  1.61592042  1.55111504 ... 38.36750031 35.77999878\n",
            " 33.97999954]\n"
          ]
        }
      ]
    },
    {
      "cell_type": "code",
      "source": [
        "from sklearn.model_selection import train_test_split\n",
        "x_train, x_test, y_train, y_test = train_test_split(X2, y2, test_size = 0.2)"
      ],
      "metadata": {
        "id": "mZqgQaDyHGRF"
      },
      "execution_count": null,
      "outputs": []
    },
    {
      "cell_type": "code",
      "source": [
        "from sklearn.tree import DecisionTreeRegressor\n",
        "from sklearn.linear_model import LinearRegression"
      ],
      "metadata": {
        "id": "KJc1MSJ8HJi8"
      },
      "execution_count": null,
      "outputs": []
    },
    {
      "cell_type": "code",
      "execution_count": null,
      "metadata": {
        "id": "LqG9Yn3l-fnC"
      },
      "outputs": [],
      "source": [
        "tree = DecisionTreeRegressor().fit(x_train, y_train)\n",
        "lr = LinearRegression().fit(x_train, y_train)"
      ]
    },
    {
      "cell_type": "code",
      "source": [
        "x_future = df2.drop(['Prediction'], 1)[:-future_days]\n",
        "x_future = x_future.tail(future_days)\n",
        "x_future = np.array(x_future)\n",
        "x_future"
      ],
      "metadata": {
        "colab": {
          "base_uri": "https://localhost:8080/"
        },
        "id": "8vM_BkhXHW8n",
        "outputId": "5181c9f0-01db-4662-c200-324f177219ad"
      },
      "execution_count": null,
      "outputs": [
        {
          "output_type": "stream",
          "name": "stderr",
          "text": [
            "/usr/local/lib/python3.7/dist-packages/ipykernel_launcher.py:1: FutureWarning: In a future version of pandas all arguments of DataFrame.drop except for the argument 'labels' will be keyword-only\n",
            "  \"\"\"Entry point for launching an IPython kernel.\n"
          ]
        },
        {
          "output_type": "execute_result",
          "data": {
            "text/plain": [
              "array([[43.02999878],\n",
              "       [43.16999817],\n",
              "       [44.52500153],\n",
              "       [43.95500183],\n",
              "       [46.01499939],\n",
              "       [45.95750046],\n",
              "       [45.81999969],\n",
              "       [46.50500107],\n",
              "       [46.69749832],\n",
              "       [46.13000107],\n",
              "       [45.42750168],\n",
              "       [42.45000076],\n",
              "       [43.49250031],\n",
              "       [44.45999908],\n",
              "       [43.37749863],\n",
              "       [45.71250153],\n",
              "       [45.87749863],\n",
              "       [50.02249908],\n",
              "       [51.74750137],\n",
              "       [54.58250046],\n",
              "       [54.45999908],\n",
              "       [53.3125    ],\n",
              "       [54.65999985],\n",
              "       [51.65000153],\n",
              "       [49.79750061],\n",
              "       [51.08000183],\n",
              "       [50.52500153],\n",
              "       [52.28499985],\n",
              "       [51.79499817],\n",
              "       [52.5       ],\n",
              "       [52.52999878],\n",
              "       [57.20000076],\n",
              "       [61.88750076],\n",
              "       [53.47499847],\n",
              "       [52.94499969],\n",
              "       [49.93000031],\n",
              "       [50.50249863],\n",
              "       [49.05250168],\n",
              "       [44.95999908],\n",
              "       [45.38999939],\n",
              "       [43.09749985],\n",
              "       [41.77999878],\n",
              "       [44.45249939],\n",
              "       [43.41249847],\n",
              "       [38.93999863],\n",
              "       [39.75249863],\n",
              "       [34.22000122],\n",
              "       [36.92250061],\n",
              "       [37.14749908],\n",
              "       [36.14749908],\n",
              "       [38.90999985],\n",
              "       [39.28499985],\n",
              "       [39.52999878],\n",
              "       [38.5       ],\n",
              "       [38.03499985],\n",
              "       [37.07749939],\n",
              "       [36.61500168],\n",
              "       [38.48249817],\n",
              "       [38.83250046],\n",
              "       [37.09749985],\n",
              "       [38.20999908],\n",
              "       [37.22750092],\n",
              "       [32.34249878],\n",
              "       [32.75749969],\n",
              "       [35.15499878],\n",
              "       [32.78749847],\n",
              "       [32.57500076],\n",
              "       [32.01499939],\n",
              "       [30.62000084],\n",
              "       [29.16250038],\n",
              "       [27.22750092],\n",
              "       [26.64249992],\n",
              "       [25.66749954],\n",
              "       [26.59000015],\n",
              "       [25.03750038],\n",
              "       [24.94750023],\n",
              "       [25.81500053],\n",
              "       [23.37999916],\n",
              "       [24.47750092],\n",
              "       [27.23250008],\n",
              "       [28.14999962],\n",
              "       [25.01000023],\n",
              "       [24.80750084],\n",
              "       [25.58499908],\n",
              "       [25.58499908],\n",
              "       [28.89999962],\n",
              "       [31.07250023],\n",
              "       [30.61750031],\n",
              "       [31.0625    ],\n",
              "       [29.27249908],\n",
              "       [31.54000092],\n",
              "       [32.08250046],\n",
              "       [30.85250092],\n",
              "       [30.38249969],\n",
              "       [29.51499939],\n",
              "       [28.71750069],\n",
              "       [31.14500046],\n",
              "       [29.64500046],\n",
              "       [30.83499908],\n",
              "       [29.75499916]])"
            ]
          },
          "metadata": {},
          "execution_count": 38
        }
      ]
    },
    {
      "cell_type": "code",
      "source": [
        "import numpy as np\n",
        "import pandas as pd\n",
        "\n",
        "def compute_priors(y):\n",
        "\n",
        "    priors = None\n",
        "    len_values = len(y)\n",
        "    value_counts = y.value_counts().sort_index()\n",
        "    indices = [y.name+\"=\"+str(v) for v in value_counts.index.tolist()]\n",
        "    priors = dict(zip(indices, value_counts / len_values))\n",
        "\n",
        "    return priors\n",
        "\n",
        "\n",
        "def specific_class_conditional(x,xv,y,yv):\n",
        "\n",
        "    probs = {}\n",
        "    priors = {}\n",
        "    for val in x.unique():\n",
        "        binned, bins = pd.cut(y.loc[x==val], 5, retbins=True)\n",
        "        bin_counts = binned.value_counts()\n",
        "        bin_val = pd.cut([yv], bins)[0]\n",
        "\n",
        "        if bin_val in bin_counts.index:\n",
        "            count = bin_counts.loc[bin_val]\n",
        "        else:\n",
        "            count = 0\n",
        "\n",
        "        probs[val] = count / sum(bin_counts)\n",
        "        priors[val] = sum(bin_counts) / len(x)\n",
        "\n",
        "    denominator = 0\n",
        "\n",
        "    for i in priors.keys():\n",
        "        denominator = denominator + (priors[i]*probs[i])\n",
        "\n",
        "    classcond = probs[xv]*priors[xv] / denominator\n",
        "\n",
        "    return classcond\n",
        "\n",
        "def class_conditional(X,y):\n",
        "\n",
        "    probs = {}\n",
        "    for eachY in y.unique():\n",
        "        for col in X.columns:\n",
        "            for eachX in X[col].unique():\n",
        "                probs[col + \"=\" + str(eachX) + \"|\" + y.name + \"=\" + str(eachY)] = specific_class_conditional(X[col], eachX, y, eachY)\n",
        "\n",
        "    return probs\n",
        "\n",
        "def posteriors(probs,priors,x):\n",
        "    post_probs = {}\n",
        "    denominator = 0\n",
        "\n",
        "    for i in priors.keys():\n",
        "        posterior_key = \"\"\n",
        "        numerator = 1\n",
        "\n",
        "        for eachX in x.index:\n",
        "            probkey = eachX + \"=\" + str(x[eachX]) + \"|\" + i\n",
        "            posterior_key += eachX + \"=\" + str(x[eachX]) + \",\"\n",
        "\n",
        "            if probkey not in probs:\n",
        "                numerator *= 0\n",
        "            else:\n",
        "                numerator *= probs[probkey]\n",
        "\n",
        "        numerator*=priors[i]\n",
        "        post_probs[i + \"|\" + posterior_key[:-1]] = numerator\n",
        "        denominator+=numerator\n",
        "\n",
        "    for key, val in post_probs.items():\n",
        "        if denominator != 0:\n",
        "            post_probs[key] = val / denominator\n",
        "        else:\n",
        "            post_probs[key] = 1 / len(list(priors.keys()))\n",
        "    return post_probs\n",
        "\n",
        "\n",
        "def train_test_split(X,y,test_frac=0.5):\n",
        "\n",
        "    inxs = list(range(len(y)))\n",
        "    np.random.shuffle(inxs)\n",
        "    X = X.iloc[inxs,:]\n",
        "    y = y.iloc[inxs]\n",
        "\n",
        "    xsplit = round(len(X)*test_frac)\n",
        "    ysplit = round(len(y)*test_frac)\n",
        "    Xtrain,ytrain,Xtest,ytest = X.iloc[:xsplit, :], y.iloc[:ysplit], X.iloc[xsplit:, :], y.iloc[ysplit:]\n",
        "\n",
        "    return Xtrain,ytrain,Xtest,ytest\n",
        "\n",
        "def exercise_6(Xtrain,ytrain,Xtest,ytest):\n",
        "    accuracy=None\n",
        "    ypreds = []\n",
        "    priors = compute_priors(ytrain)\n",
        "    probs = class_conditional(Xtrain, ytrain)\n",
        "\n",
        "    for i in range(len(Xtest)):\n",
        "\n",
        "        posterior = posteriors(probs, priors, Xtest.iloc[i])\n",
        "        posterior_k = max(posterior, key=posterior.get)\n",
        "        predicted = round(float((posterior_k.split(\"|\")[0]).split(\"=\")[-1]))\n",
        "        ypreds.append(predicted)\n",
        "\n",
        "    ypreds = np.array(ypreds)\n",
        "    correct = np.sum(ypreds == ytest.to_numpy())\n",
        "    accuracy = correct / len(ytest)\n",
        "    return accuracy\n",
        "\n",
        "def exercise_7(Xtrain,ytrain,Xtest,ytest, npermutations = 10):\n",
        "\n",
        "    # initialize what we are going to return\n",
        "    importances = {}\n",
        "    for col in Xtrain.columns:\n",
        "        importances[col] = 0\n",
        "\n",
        "    # find the original accuracy\n",
        "    orig_accuracy = exercise_6(Xtrain,ytrain,Xtest,ytest)\n",
        "\n",
        "    # now carray out the feature importance work\n",
        "    for col in Xtrain.columns:\n",
        "        for perm in range(npermutations):\n",
        "\n",
        "            Xtest2 = Xtest.copy()\n",
        "            Xtest2[col] = Xtest[col].sample(frac=1, replace=False).values\n",
        "\n",
        "            new_accuracy = exercise_6(Xtrain, ytrain, Xtest2, ytest)\n",
        "            feature_importance = orig_accuracy - new_accuracy\n",
        "            importances[col] += feature_importance\n",
        "\n",
        "        importances[col] = importances[col]/npermutations\n",
        "    return importances\n",
        "\n",
        "def exercise_8(Xtrain,ytrain,Xtest,ytest, npermutations = 20):\n",
        "    # initialize what we are going to return\n",
        "    importances = {}\n",
        "    for col in Xtrain.columns:\n",
        "        importances[col] = 0\n",
        "\n",
        "\n",
        "    # find the original accuracy\n",
        "    orig_accuracy = exercise_6(Xtrain,ytrain,Xtest,ytest)\n",
        "\n",
        "    # now carray out the feature importance work\n",
        "    for col in Xtrain.columns:\n",
        "        for perm in range(npermutations):\n",
        "\n",
        "            Xtrain2 = Xtrain.copy()\n",
        "            Xtrain2[col] = Xtrain[col].sample(frac=1, replace=False).values\n",
        "\n",
        "            new_accuracy = exercise_6(Xtrain2, ytrain, Xtest, ytest)\n",
        "            feature_importance = orig_accuracy - new_accuracy\n",
        "            importances[col] += feature_importance\n",
        "\n",
        "        importances[col] = importances[col]/npermutations\n",
        "    return importances\n",
        "\n"
      ],
      "metadata": {
        "id": "f3mK50N3pIe1"
      },
      "execution_count": null,
      "outputs": []
    },
    {
      "cell_type": "code",
      "source": [
        "tree_prediction = tree.predict(x_future)\n",
        "print(tree_prediction)\n"
      ],
      "metadata": {
        "colab": {
          "base_uri": "https://localhost:8080/"
        },
        "id": "MS-9lJKLHaWP",
        "outputId": "4a09ed9b-6fc2-4731-c41f-3a4316536749"
      },
      "execution_count": null,
      "outputs": [
        {
          "output_type": "stream",
          "name": "stdout",
          "text": [
            "[29.60250092 29.60250092 27.91500092 24.83749962 25.75250053 26.30249977\n",
            " 25.13999939 23.17250061 19.52750015 51.30500031 40.63000107 52.29999924\n",
            " 22.69750023 23.54999924 30.78499985 35.25       35.59749985 35.38999939\n",
            " 47.39749908 44.97499847 41.71250153 41.64500046 41.25       42.68249893\n",
            " 38.39749908 39.15999985 37.5        36.54750061 36.73249817 36.21749878\n",
            " 37.67499924 37.69250107 40.27999878 38.11750031 37.21250153 35.38999939\n",
            " 34.55500031 41.21500015 31.89999962 32.45999908 29.60250092 31.26749992\n",
            " 29.89249992 30.78499985 31.77000046 29.78249931 28.67499924 24.69750023\n",
            " 23.375      20.33250046 22.39249992 24.59749985 22.95000076 24.03249931\n",
            " 22.87000084 24.79750061 23.91500092 24.03249931 22.39249992 28.79249954\n",
            " 32.11500168 34.30250168 31.18499947 30.35000038 33.5        33.42499924\n",
            " 32.02500153 36.625      34.68249893 32.52249908 32.27249908 29.5625\n",
            " 31.54249954 29.5625     31.43250084 33.78499985 31.54249954 34.61500168\n",
            " 35.50500107 33.80250168 32.42250061 31.43250084 30.71500015 30.85499954\n",
            " 30.85499954 30.05750084 29.35750008 33.77999878 32.13499832 32.52249908\n",
            " 34.27999878 36.625      35.77999878 35.40999985 36.65999985 37.92499924\n",
            " 39.6875     45.09000015 35.77999878 33.97999954]\n"
          ]
        }
      ]
    },
    {
      "cell_type": "code",
      "source": [
        "lr_prediction = lr.predict(x_future)\n",
        "print(lr_prediction)"
      ],
      "metadata": {
        "colab": {
          "base_uri": "https://localhost:8080/"
        },
        "id": "nJlPKVGlHcwN",
        "outputId": "e754465b-ac6e-4595-e36e-ce382db9a036"
      },
      "execution_count": null,
      "outputs": [
        {
          "output_type": "stream",
          "name": "stdout",
          "text": [
            "[36.42590594 36.53841313 37.62732942 37.16926269 38.82473084 38.77852318\n",
            " 38.66802396 39.21850905 39.3732049  38.9171492  38.35260224 35.9598043\n",
            " 36.79758432 37.57509175 36.70516595 38.58163561 38.71423161 42.04526285\n",
            " 43.43151999 45.70979972 45.6113544  44.68919399 45.77208026 43.35316655\n",
            " 41.86444816 42.89509983 42.44908701 43.86346788 43.46968966 44.03624765\n",
            " 44.06035546 47.81329171 51.58028983 44.81978203 44.3938611  41.9709284\n",
            " 42.43100309 41.26574745 37.97690488 38.32246442 36.48015158 35.42137311\n",
            " 37.5690648  36.73329275 33.1390744  33.79202074 29.34596051 31.51776\n",
            " 31.69857469 30.89494842 33.11496659 33.41632644 33.61321402 32.78547995\n",
            " 32.41179361 31.64232109 31.27064579 32.77141501 33.05268605 31.65839399\n",
            " 32.55242759 31.76286626 27.83715024 28.17065588 30.09734911 28.19476368\n",
            " 28.02399494 27.57396313 26.45290565 25.28162001 23.72660361 23.25648145\n",
            " 22.47294554 23.21429126 21.96666166 21.89433518 22.59148121 20.63465015\n",
            " 21.51663138 23.73062107 24.4679478  21.94456182 21.78182799 22.406646\n",
            " 22.406646   25.0706675  26.81654605 26.45089616 26.8085096  25.37001785\n",
            " 27.19224188 27.62820876 26.63974882 26.2620435  25.56489747 24.92400656\n",
            " 26.87480914 25.66936974 26.62568389 25.75776759]\n"
          ]
        }
      ]
    },
    {
      "cell_type": "code",
      "source": [
        "predictions = tree_prediction\n",
        "valid = df2[X2.shape[0]:]\n",
        "valid['Predictions'] = predictions"
      ],
      "metadata": {
        "colab": {
          "base_uri": "https://localhost:8080/"
        },
        "id": "DweSRAGxHga2",
        "outputId": "c66734d0-ba12-4909-e829-6950e81309eb"
      },
      "execution_count": null,
      "outputs": [
        {
          "output_type": "stream",
          "name": "stderr",
          "text": [
            "/usr/local/lib/python3.7/dist-packages/ipykernel_launcher.py:3: SettingWithCopyWarning: \n",
            "A value is trying to be set on a copy of a slice from a DataFrame.\n",
            "Try using .loc[row_indexer,col_indexer] = value instead\n",
            "\n",
            "See the caveats in the documentation: https://pandas.pydata.org/pandas-docs/stable/user_guide/indexing.html#returning-a-view-versus-a-copy\n",
            "  This is separate from the ipykernel package so we can avoid doing imports until\n"
          ]
        }
      ]
    },
    {
      "cell_type": "code",
      "source": [
        "plt.figure(figsize=(16,8))\n",
        "plt.title(\"Model\")\n",
        "plt.xlabel('Days')\n",
        "plt.ylabel('Close Price USD ($)')\n",
        "plt.plot(df2['Close'])\n",
        "plt.plot(valid[['Close', 'Predictions']])\n",
        "plt.legend([\"Original\", \"Valid\", 'Predicted'])\n",
        "plt.show()"
      ],
      "metadata": {
        "colab": {
          "base_uri": "https://localhost:8080/",
          "height": 451
        },
        "id": "44EdWWhGHjmR",
        "outputId": "198d98cc-5e01-4554-8895-59cf8a6074c6"
      },
      "execution_count": null,
      "outputs": [
        {
          "output_type": "display_data",
          "data": {
            "text/plain": [
              "<Figure size 1152x576 with 1 Axes>"
            ],
            "image/png": "[encoded data removed]"
          },
          "metadata": {
            "needs_background": "light"
          }
        }
      ]
    }
  ],
  "metadata": {
    "colab": {
      "collapsed_sections": [
        "i4hrlyIlrHHa"
      ],
      "provenance": [],
      "authorship_tag": "ABX9TyNIfC+AXZLc5coKabvWzMPc",
      "include_colab_link": true
    },
    "kernelspec": {
      "display_name": "Python 3",
      "name": "python3"
    },
    "language_info": {
      "name": "python"
    }
  },
  "nbformat": 4,
  "nbformat_minor": 0
}